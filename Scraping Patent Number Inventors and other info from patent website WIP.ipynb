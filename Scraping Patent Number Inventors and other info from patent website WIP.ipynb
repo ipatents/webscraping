{
 "cells": [
  {
   "cell_type": "markdown",
   "metadata": {},
   "source": [
    "This code is a raw repository of small functions and syntax that will be used for scraping information about the patents.\n",
    "It involves searching tables, finding siblings and parents of a table, use of regex to get author names and other features.\n",
    "This is a work in progress file."
   ]
  },
  {
   "cell_type": "code",
   "execution_count": null,
   "metadata": {
    "collapsed": true
   },
   "outputs": [],
   "source": [
    "from urllib.request import urlopen\n",
    "#Retrieve HTML string from the URL\n",
    "html = urlopen(\"http://www.pythonscraping.com/exercises/exercise1.html\")\n",
    "print(html.read())"
   ]
  },
  {
   "cell_type": "code",
   "execution_count": 39,
   "metadata": {},
   "outputs": [
    {
     "name": "stdout",
     "output_type": "stream",
     "text": [
      "9720117\n"
     ]
    }
   ],
   "source": [
    "from urllib.request import urlopen\n",
    "from bs4 import BeautifulSoup\n",
    "\n",
    "html = urlopen(\"http://patft.uspto.gov/netacgi/nph-Parser?Sect1=PTO2&Sect2=HITOFF&u=%2Fnetahtml%2FPTO%2Fsearch-adv.htm&r=1&p=1&f=G&l=50&d=PTXT&S1=(python.CLTX.+or+python.DCTX.)&OS=ACLM/python&RS=ACLM/python/\")\n",
    "bsObj = BeautifulSoup(html.read(),\"lxml\")\n",
    "str = bsObj.title.text\n",
    "\n",
    "#Non regex way to extract patent number from title\n",
    "\n",
    "patentnumber = [int(s) for s in str.split() if s.isdigit()]\n",
    "print (patentnumber[0])\n",
    "\n",
    "\n"
   ]
  },
  {
   "cell_type": "code",
   "execution_count": 44,
   "metadata": {},
   "outputs": [
    {
     "data": {
      "text/plain": [
       "9720117"
      ]
     },
     "execution_count": 44,
     "metadata": {},
     "output_type": "execute_result"
    }
   ],
   "source": [
    "#reg ex method to extract patent number from title\n",
    "\n",
    "import re\n",
    "patentnumber = re.findall(r'\\d+', str)\n",
    "int(patentnumber[0])\n",
    "\n"
   ]
  },
  {
   "cell_type": "code",
   "execution_count": 15,
   "metadata": {},
   "outputs": [
    {
     "name": "stdout",
     "output_type": "stream",
     "text": [
      "[]\n"
     ]
    }
   ],
   "source": [
    "from bs4 import BeautifulSoup\n",
    "\n",
    "bTags = []\n",
    "for i in bsObj.find_all('span', style=lambda x: x and 'Italic' in x):\n",
    "    bTags.append(title.text)\n",
    "\n",
    "print (bTags)"
   ]
  },
  {
   "cell_type": "code",
   "execution_count": 18,
   "metadata": {},
   "outputs": [
    {
     "name": "stdout",
     "output_type": "stream",
     "text": [
      "\n"
     ]
    }
   ],
   "source": [
    "hold = bsObj.text\n",
    "for eachTag in bsObj.findAll():\n",
    "    hold = hold.replace(eachTag.text,'')\n",
    "    \n",
    "# print (hold)"
   ]
  },
  {
   "cell_type": "code",
   "execution_count": 26,
   "metadata": {},
   "outputs": [
    {
     "name": "stdout",
     "output_type": "stream",
     "text": [
      "AC\n"
     ]
    },
    {
     "name": "stderr",
     "output_type": "stream",
     "text": [
      "/Users/dianeludin/anaconda3/lib/python3.6/site-packages/bs4/__init__.py:181: UserWarning: No parser was explicitly specified, so I'm using the best available HTML parser for this system (\"lxml\"). This usually isn't a problem, but if you run this code on another system, or in a different virtual environment, it may use a different parser and behave differently.\n",
      "\n",
      "The code that caused this warning is on line 193 of the file /Users/dianeludin/anaconda3/lib/python3.6/runpy.py. To get rid of this warning, change code that looks like this:\n",
      "\n",
      " BeautifulSoup(YOUR_MARKUP})\n",
      "\n",
      "to this:\n",
      "\n",
      " BeautifulSoup(YOUR_MARKUP, \"lxml\")\n",
      "\n",
      "  markup_type=markup_type))\n"
     ]
    }
   ],
   "source": [
    "#not working\n",
    "\n",
    "import bs4\n",
    "NavigableString = bsObj.text\n",
    "\n",
    "node = bs4.BeautifulSoup('<html><div>A<span>B</span>C</div></html>').find('div')\n",
    "print (\"\".join([t for t in node.contents if type(t)==bs4.element.NavigableString]))"
   ]
  },
  {
   "cell_type": "code",
   "execution_count": null,
   "metadata": {
    "collapsed": true
   },
   "outputs": [],
   "source": [
    "from urllib.request import urlopen\n",
    "from urllib.error import HTTPError\n",
    "from bs4 import BeautifulSoup\n",
    "import sys\n",
    "\n",
    "\n",
    "def getTitle(url):\n",
    "    try:\n",
    "        html = urlopen(url)\n",
    "    except HTTPError as e:\n",
    "        print(e)\n",
    "        return None\n",
    "    try:\n",
    "        bsObj = BeautifulSoup(html.read(), \"lxml\")\n",
    "        title = bsObj.body.h1\n",
    "    except AttributeError as e:\n",
    "        return None\n",
    "    return title\n",
    "\n",
    "title = getTitle(\"http://www.pythonscraping.com/exercises/exercise1.html\")\n",
    "if title == None:\n",
    "    print(\"Title could not be found\")\n",
    "else:\n",
    "    print(title)"
   ]
  },
  {
   "cell_type": "code",
   "execution_count": null,
   "metadata": {
    "collapsed": true
   },
   "outputs": [],
   "source": [
    "from urllib.request import urlopen\n",
    "from bs4 import BeautifulSoup\n",
    "\n",
    "html = urlopen(\"http://patft.uspto.gov/netacgi/nph-Parser?Sect1=PTO2&Sect2=HITOFF&u=%2Fnetahtml%2FPTO%2Fsearch-adv.htm&r=1&p=1&f=G&l=50&d=PTXT&S1=(python.CLTX.+or+python.DCTX.)&OS=ACLM/python&RS=ACLM/python/\")\n",
    "bsObj = BeautifulSoup(html, \"html.parser\")\n",
    "nameList = bsObj.findAll(\"span\", {\"class\":\"green\"})\n",
    "for name in nameList:\n",
    "    print(name.get_text())"
   ]
  },
  {
   "cell_type": "code",
   "execution_count": 47,
   "metadata": {},
   "outputs": [
    {
     "data": {
      "text/plain": [
       "[<th align=\"left\" scope=\"row\" valign=\"top\" width=\"10%\">Inventors:</th>]"
      ]
     },
     "execution_count": 47,
     "metadata": {},
     "output_type": "execute_result"
    }
   ],
   "source": [
    "[t.parent for t in bsObj.findAll(text='Inventors:')]\n",
    "\n",
    "\n"
   ]
  },
  {
   "cell_type": "code",
   "execution_count": 49,
   "metadata": {},
   "outputs": [
    {
     "data": {
      "text/plain": [
       "[<th align=\"left\" scope=\"row\" valign=\"top\" width=\"10%\">Inventors:</th>]"
      ]
     },
     "execution_count": 49,
     "metadata": {},
     "output_type": "execute_result"
    }
   ],
   "source": [
    "[t.parent for t in bsObj.findAll(text='Inventors:') if t.parent.name=='th']\n"
   ]
  },
  {
   "cell_type": "code",
   "execution_count": 81,
   "metadata": {},
   "outputs": [
    {
     "name": "stdout",
     "output_type": "stream",
     "text": [
      "\n",
      "Das; Kaushik Kunal (Woodside, CA), Raghu; Rashmi (San Jose, CA), Rawles; Christopher Jeffrey (Novato, CA) \n",
      "Das; Kaushik Kunal (Woodside, CA), Raghu; Rashmi (San Jose, CA), Rawles; Christopher Jeffrey (Novato, CA) \n"
     ]
    }
   ],
   "source": [
    "# locate the table containing a cell with the given text\n",
    "#https://stackoverflow.com/questions/1817184/beautifulsoup-get-value-in-table\n",
    "#https://stackoverflow.com/questions/31554704/how-to-get-first-child-table-row-from-a-table-in-beautifulsoup-python\n",
    "\n",
    "owner = re.compile('Inventors:')\n",
    "cell = soup.find(text=owner).parent\n",
    "while cell.name != 'table': cell = cell.parent\n",
    "# print all non-empty strings in the table (except for the given text)\n",
    "\n",
    "print (cell.select('td')[0].text)\n",
    "authorname = (cell.select('td')[0].text)\n",
    "#for bsObj in cell.findAll(text=lambda bsObj: bsObj.strip() and not owner.match(bsObj)):\n",
    " # print (bsObj)\n",
    "\n",
    "#print (cell)\n",
    "\n",
    "\n",
    "authorname = authorname.strip('\\n')\n",
    "print (authorname)"
   ]
  },
  {
   "cell_type": "code",
   "execution_count": 82,
   "metadata": {},
   "outputs": [
    {
     "data": {
      "text/plain": [
       "['Woodside, CA', 'San Jose, CA', 'Novato, CA']"
      ]
     },
     "execution_count": 82,
     "metadata": {},
     "output_type": "execute_result"
    }
   ],
   "source": [
    "#https://stackoverflow.com/questions/14596884/remove-text-between-and-in-python/\n",
    "\n",
    "import re\n",
    "regex = re.compile(\".*?\\((.*?)\\)\")\n",
    "result = re.findall(regex, authorname)\n",
    "\n",
    "result"
   ]
  },
  {
   "cell_type": "code",
   "execution_count": 84,
   "metadata": {},
   "outputs": [],
   "source": [
    "\n",
    "authornamecleaned = re.sub(\"[\\(\\[].*?[\\)\\]]\", \"\", authorname)"
   ]
  },
  {
   "cell_type": "code",
   "execution_count": 93,
   "metadata": {},
   "outputs": [
    {
     "name": "stdout",
     "output_type": "stream",
     "text": [
      "[['Das', ' Kaushik Kunal '], [' Raghu', ' Rashmi '], [' Rawles', ' Christopher Jeffrey  ']]\n"
     ]
    }
   ],
   "source": [
    "authornamelist = authornamecleaned.split(\",\")\n",
    "authorfln =[]\n",
    "for names in authornamelist:\n",
    "    names = names.split(\";\")\n",
    "    authorfln.append(names)\n",
    "    \n",
    "print (authorfln)\n",
    "\n",
    "\n",
    "\n",
    "\n"
   ]
  },
  {
   "cell_type": "code",
   "execution_count": 88,
   "metadata": {},
   "outputs": [
    {
     "name": "stdout",
     "output_type": "stream",
     "text": [
      "\n",
      "\"Well, Prince, so Genoa and Lucca are now just family estates of the\n",
      "Buonapartes. But I warn you, if you don't tell me that this means war,\n",
      "if you still try to defend the infamies and horrors perpetrated by\n",
      "that Antichrist- I really believe he is Antichrist- I will have\n",
      "nothing more to do with you and you are no longer my friend, no longer\n",
      "my 'faithful slave,' as you call yourself! But how do you do? I see\n",
      "I have frightened you- sit down and tell me all the news.\"\n",
      "\n",
      "It was in July, 1805, and the speaker was the well-known Anna\n",
      "Pavlovna Scherer, maid of honor and favorite of the Empress Marya\n",
      "Fedorovna. With these words she greeted Prince Vasili Kuragin, a man\n",
      "of high rank and importance, who was the first to arrive at her\n",
      "reception. Anna Pavlovna had had a cough for some days. She was, as\n",
      "she said, suffering from la grippe; grippe being then a new word in\n",
      "St. Petersburg, used only by the elite.\n",
      "\n",
      "All her invitations without exception, written in French, and\n",
      "delivered by a scarlet-liveried footman that morning, ran as follows:\n",
      "\n",
      "\"If you have nothing better to do, Count [or Prince], and if the\n",
      "prospect of spending an evening with a poor invalid is not too\n",
      "terrible, I shall be very charmed to see you tonight between 7 and 10-\n",
      "Annette Scherer.\"\n",
      "\n",
      "\"Heavens! what a virulent attack!\" replied the prince, not in the\n",
      "least disconcerted by this reception. He had just entered, wearing\n",
      "an embroidered court uniform, knee breeches, and shoes, and had\n",
      "stars on his breast and a serene expression on his flat face. He spoke\n",
      "in that refined French in which our grandfathers not only spoke but\n",
      "thought, and with the gentle, patronizing intonation natural to a\n",
      "man of importance who had grown old in society and at court. He went\n",
      "up to Anna Pavlovna, kissed her hand, presenting to her his bald,\n",
      "scented, and shining head, and complacently seated himself on the\n",
      "sofa.\n",
      "\n",
      "\"First of all, dear friend, tell me how you are. Set your friend's\n",
      "mind at rest,\" said he without altering his tone, beneath the\n",
      "politeness and affected sympathy of which indifference and even\n",
      "irony could be discerned.\n",
      "\n",
      "\"Can one be well while suffering morally? Can one be calm in times\n",
      "like these if one has any feeling?\" said Anna Pavlovna. \"You are\n",
      "staying the whole evening, I hope?\"\n",
      "\n",
      "\"And the fete at the English ambassador's? Today is Wednesday. I\n",
      "must put in an appearance there,\" said the prince. \"My daughter is\n",
      "coming for me to take me there.\"\n",
      "\n",
      "\"I thought today's fete had been canceled. I confess all these\n",
      "festivities and fireworks are becoming wearisome.\"\n",
      "\n",
      "\"If they had known that you wished it, the entertainment would\n",
      "have been put off,\" said the prince, who, like a wound-up clock, by\n",
      "force of habit said things he did not even wish to be believed.\n",
      "\n",
      "\"Don't tease! Well, and what has been decided about Novosiltsev's\n",
      "dispatch? You know everything.\"\n",
      "\n",
      "\"What can one say about it?\" replied the prince in a cold,\n",
      "listless tone. \"What has been decided? They have decided that\n",
      "Buonaparte has burnt his boats, and I believe that we are ready to\n",
      "burn ours.\"\n",
      "\n",
      "Prince Vasili always spoke languidly, like an actor repeating a\n",
      "stale part. Anna Pavlovna Scherer on the contrary, despite her forty\n",
      "years, overflowed with animation and impulsiveness. To be an\n",
      "enthusiast had become her social vocation and, sometimes even when she\n",
      "did not feel like it, she became enthusiastic in order not to\n",
      "disappoint the expectations of those who knew her. The subdued smile\n",
      "which, though it did not suit her faded features, always played\n",
      "round her lips expressed, as in a spoiled child, a continual\n",
      "consciousness of her charming defect, which she neither wished, nor\n",
      "could, nor considered it necessary, to correct.\n",
      "\n",
      "In the midst of a conversation on political matters Anna Pavlovna\n",
      "burst out:\n",
      "\n",
      "\"Oh, don't speak to me of Austria. Perhaps I don't understand\n",
      "things, but Austria never has wished, and does not wish, for war.\n",
      "She is betraying us! Russia alone must save Europe. Our gracious\n",
      "sovereign recognizes his high vocation and will be true to it. That is\n",
      "the one thing I have faith in! Our good and wonderful sovereign has to\n",
      "perform the noblest role on earth, and he is so virtuous and noble\n",
      "that God will not forsake him. He will fulfill his vocation and\n",
      "crush the hydra of revolution, which has become more terrible than\n",
      "ever in the person of this murderer and villain! We alone must\n",
      "avenge the blood of the just one.... Whom, I ask you, can we rely\n",
      "on?... England with her commercial spirit will not and cannot\n",
      "understand the Emperor Alexander's loftiness of soul. She has\n",
      "refused to evacuate Malta. She wanted to find, and still seeks, some\n",
      "secret motive in our actions. What answer did Novosiltsev get? None.\n",
      "The English have not understood and cannot understand the\n",
      "self-abnegation of our Emperor who wants nothing for himself, but only\n",
      "desires the good of mankind. And what have they promised? Nothing! And\n",
      "what little they have promised they will not perform! Prussia has\n",
      "always declared that Buonaparte is invincible, and that all Europe\n",
      "is powerless before him.... And I don't believe a word that Hardenburg\n",
      "says, or Haugwitz either. This famous Prussian neutrality is just a\n",
      "trap. I have faith only in God and the lofty destiny of our adored\n",
      "monarch. He will save Europe!\"\n",
      "\n",
      "She suddenly paused, smiling at her own impetuosity.\n",
      "\n",
      "\"I think,\" said the prince with a smile, \"that if you had been\n",
      "sent instead of our dear Wintzingerode you would have captured the\n",
      "King of Prussia's consent by assault. You are so eloquent. Will you\n",
      "give me a cup of tea?\"\n",
      "\n",
      "\"In a moment. A propos,\" she added, becoming calm again, \"I am\n",
      "expecting two very interesting men tonight, le Vicomte de Mortemart,\n",
      "who is connected with the Montmorencys through the Rohans, one of\n",
      "the best French families. He is one of the genuine emigres, the good\n",
      "ones. And also the Abbe Morio. Do you know that profound thinker? He\n",
      "has been received by the Emperor. Had you heard?\"\n",
      "\n",
      "\"I shall be delighted to meet them,\" said the prince. \"But tell me,\"\n",
      "he added with studied carelessness as if it had only just occurred\n",
      "to him, though the question he was about to ask was the chief motive\n",
      "of his visit, \"is it true that the Dowager Empress wants Baron Funke\n",
      "to be appointed first secretary at Vienna? The baron by all accounts\n",
      "is a poor creature.\"\n",
      "\n",
      "Prince Vasili wished to obtain this post for his son, but others\n",
      "were trying through the Dowager Empress Marya Fedorovna to secure it\n",
      "for the baron.\n",
      "\n",
      "Anna Pavlovna almost closed her eyes to indicate that neither she\n",
      "nor anyone else had a right to criticize what the Empress desired or\n",
      "was pleased with.\n",
      "\n",
      "\"Baron Funke has been recommended to the Dowager Empress by her\n",
      "sister,\" was all she said, in a dry and mournful tone.\n",
      "\n",
      "As she named the Empress, Anna Pavlovna's face suddenly assumed an\n",
      "expression of profound and sincere devotion and respect mingled with\n",
      "sadness, and this occurred every time she mentioned her illustrious\n",
      "patroness. She added that Her Majesty had deigned to show Baron\n",
      "Funke, and again her face clouded over with sadness.\n",
      "\n",
      "The prince was silent and looked indifferent. But, with the\n",
      "womanly and courtierlike quickness and tact habitual to her, Anna\n",
      "Pavlovna wished both to rebuke him (for daring to speak he had done of\n",
      "a man recommended to the Empress) and at the same time to console him,\n",
      "so she said:\n",
      "\n",
      "\"Now about your family. Do you know that since your daughter came\n",
      "out everyone has been enraptured by her? They say she is amazingly\n",
      "beautiful.\"\n",
      "\n",
      "The prince bowed to signify his respect and gratitude.\n",
      "\n",
      "\"I often think,\" she continued after a short pause, drawing nearer\n",
      "to the prince and smiling amiably at him as if to show that\n",
      "political and social topics were ended and the time had come for\n",
      "intimate conversation- \"I often think how unfairly sometimes the\n",
      "joys of life are distributed. Why has fate given you two such splendid\n",
      "children? I don't speak of Anatole, your youngest. I don't like\n",
      "him,\" she added in a tone admitting of no rejoinder and raising her\n",
      "eyebrows. \"Two such charming children. And really you appreciate\n",
      "them less than anyone, and so you don't deserve to have them.\"\n",
      "\n",
      "And she smiled her ecstatic smile.\n",
      "\n",
      "\"I can't help it,\" said the prince. \"Lavater would have said I\n",
      "lack the bump of paternity.\"\n",
      "\n",
      "\"Don't joke; I mean to have a serious talk with you. Do you know I\n",
      "am dissatisfied with your younger son? Between ourselves\" (and her\n",
      "face assumed its melancholy expression), \"he was mentioned at Her\n",
      "Majesty's and you were pitied....\"\n",
      "\n",
      "The prince answered nothing, but she looked at him significantly,\n",
      "awaiting a reply. He frowned.\n",
      "\n",
      "\"What would you have me do?\" he said at last. \"You know I did all\n",
      "a father could for their education, and they have both turned out\n",
      "fools. Hippolyte is at least a quiet fool, but Anatole is an active\n",
      "one. That is the only difference between them.\" He said this smiling\n",
      "in a way more natural and animated than usual, so that the wrinkles\n",
      "round his mouth very clearly revealed something unexpectedly coarse\n",
      "and unpleasant.\n",
      "\n",
      "\"And why are children born to such men as you? If you were not a\n",
      "father there would be nothing I could reproach you with,\" said Anna\n",
      "Pavlovna, looking up pensively.\n",
      "\n",
      "\"I am your faithful slave and to you alone I can confess that my\n",
      "children are the bane of my life. It is the cross I have to bear. That\n",
      "is how I explain it to myself. It can't be helped!\"\n",
      "\n",
      "He said no more, but expressed his resignation to cruel fate by a\n",
      "gesture. Anna Pavlovna meditated.\n",
      "\n"
     ]
    }
   ],
   "source": [
    "from urllib.request import urlopen\n",
    "from bs4 import BeautifulSoup\n",
    "\n",
    "html = urlopen(\"http://www.pythonscraping.com/pages/warandpeace.html\")\n",
    "bsObj = BeautifulSoup(html, \"html.parser\")\n",
    "allText = bsObj.findAll(id=\"text\")\n",
    "print(allText[0].get_text())"
   ]
  },
  {
   "cell_type": "code",
   "execution_count": null,
   "metadata": {
    "collapsed": true
   },
   "outputs": [],
   "source": [
    "from urllib.request import urlopen\n",
    "from bs4 import BeautifulSoup\n",
    "\n",
    "html = urlopen(\"http://www.pythonscraping.com/pages/page3.html\")\n",
    "bsObj = BeautifulSoup(html, \"html.parser\")\n",
    "\n",
    "for child in bsObj.find(\"table\",{\"id\":\"giftList\"}).children:\n",
    "    print(child)"
   ]
  },
  {
   "cell_type": "code",
   "execution_count": null,
   "metadata": {
    "collapsed": true
   },
   "outputs": [],
   "source": [
    "from urllib.request import urlopen\n",
    "from bs4 import BeautifulSoup\n",
    "html = urlopen(\"http://www.pythonscraping.com/pages/page3.html\")\n",
    "bsObj = BeautifulSoup(html, \"html.parser\")\n",
    "\n",
    "for sibling in bsObj.find(\"table\",{\"id\":\"giftList\"}).tr.next_siblings:\n",
    "    print(sibling) "
   ]
  },
  {
   "cell_type": "code",
   "execution_count": null,
   "metadata": {
    "collapsed": true
   },
   "outputs": [],
   "source": [
    "from urllib.request import urlopen\n",
    "from bs4 import BeautifulSoup\n",
    "import re\n",
    "\n",
    "html = urlopen(\"http://www.pythonscraping.com/pages/page3.html\")\n",
    "bsObj = BeautifulSoup(html, \"html.parser\")\n",
    "images = bsObj.findAll(\"img\", {\"src\":re.compile(\"\\.\\.\\/img\\/gifts/img.*\\.jpg\")})\n",
    "for image in images: \n",
    "    print(image[\"src\"])"
   ]
  },
  {
   "cell_type": "code",
   "execution_count": null,
   "metadata": {
    "collapsed": true
   },
   "outputs": [],
   "source": [
    "from urllib.request import urlopen\n",
    "from bs4 import BeautifulSoup\n",
    "html = urlopen(\"http://www.pythonscraping.com/pages/page2.html\")\n",
    "bsObj = BeautifulSoup(html, \"html.parser\")\n",
    "tags = bsObj.findAll(lambda tag: len(tag.attrs) == 2)\n",
    "for tag in tags:\n",
    "\tprint(tag)"
   ]
  },
  {
   "cell_type": "code",
   "execution_count": 1,
   "metadata": {
    "collapsed": true
   },
   "outputs": [],
   "source": [
    "import re\n",
    "from bs4 import BeautifulSoup\n",
    "from lxml.html import fromstring\n",
    "\n",
    "FIELDS = ('area', 'population', 'iso', 'country', 'capital',\n",
    "          'continent', 'tld', 'currency_code', 'currency_name',\n",
    "          'phone', 'postal_code_format', 'postal_code_regex',\n",
    "          'languages', 'neighbours')\n",
    "\n",
    "\n",
    "def re_scraper(html):\n",
    "    \"\"\" Using regex to extract data from country pages. \"\"\"\n",
    "    results = {}\n",
    "    for field in FIELDS:\n",
    "        results[field] = re.search(\n",
    "            '<tr id=\"places_%s__row\">.*?<td class=\"w2p_fw\">(.*?)</td>'\n",
    "            % field, html).groups()[0]\n",
    "    return results\n",
    "\n",
    "\n",
    "def bs_scraper(html):\n",
    "    \"\"\" Using beautifulsoup to extract data from country pages. \"\"\"\n",
    "    soup = BeautifulSoup(html, 'html.parser')\n",
    "    results = {}\n",
    "    for field in FIELDS:\n",
    "        results[field] = soup.find('table').find(\n",
    "            'tr', id='places_%s__row' % field).find(\n",
    "                'td', class_='w2p_fw').text\n",
    "    return results\n",
    "\n",
    "\n",
    "def lxml_scraper(html):\n",
    "    \"\"\" Using lxml and cssselect to extract data from country pages. \"\"\"\n",
    "    tree = fromstring(html)\n",
    "    results = {}\n",
    "    for field in FIELDS:\n",
    "        results[field] = tree.cssselect(\n",
    "            'table > tr#places_%s__row > td.w2p_fw' % field)[0].text_content()\n",
    "    return results\n",
    "\n",
    "\n",
    "def lxml_xpath_scraper(html):\n",
    "    \"\"\" Using lxml and xpath to extract data from country pages. \"\"\"\n",
    "    tree = fromstring(html)\n",
    "    results = {}\n",
    "    for field in FIELDS:\n",
    "        results[field] = tree.xpath(\n",
    "            '//tr[@id=\"places_%s__row\"]/td[@class=\"w2p_fw\"]' % field)[0].text_content()\n",
    "    return results"
   ]
  },
  {
   "cell_type": "code",
   "execution_count": 2,
   "metadata": {},
   "outputs": [
    {
     "ename": "ModuleNotFoundError",
     "evalue": "No module named 'chp1'",
     "output_type": "error",
     "traceback": [
      "\u001b[0;31m---------------------------------------------------------------------------\u001b[0m",
      "\u001b[0;31mModuleNotFoundError\u001b[0m                       Traceback (most recent call last)",
      "\u001b[0;32m<ipython-input-2-854b2c3621c9>\u001b[0m in \u001b[0;36m<module>\u001b[0;34m()\u001b[0m\n\u001b[1;32m      1\u001b[0m \u001b[0;32mimport\u001b[0m \u001b[0mre\u001b[0m\u001b[0;34m\u001b[0m\u001b[0m\n\u001b[0;32m----> 2\u001b[0;31m \u001b[0;32mfrom\u001b[0m \u001b[0mchp1\u001b[0m\u001b[0;34m.\u001b[0m\u001b[0madvanced_link_crawler\u001b[0m \u001b[0;32mimport\u001b[0m \u001b[0mdownload\u001b[0m\u001b[0;34m\u001b[0m\u001b[0m\n\u001b[0m\u001b[1;32m      3\u001b[0m \u001b[0;34m\u001b[0m\u001b[0m\n\u001b[1;32m      4\u001b[0m \u001b[0murl\u001b[0m \u001b[0;34m=\u001b[0m \u001b[0;34m'http://example.webscraping.com/view/UnitedKingdom-239'\u001b[0m\u001b[0;34m\u001b[0m\u001b[0m\n\u001b[1;32m      5\u001b[0m \u001b[0mhtml\u001b[0m \u001b[0;34m=\u001b[0m \u001b[0mdownload\u001b[0m\u001b[0;34m(\u001b[0m\u001b[0murl\u001b[0m\u001b[0;34m)\u001b[0m\u001b[0;34m\u001b[0m\u001b[0m\n",
      "\u001b[0;31mModuleNotFoundError\u001b[0m: No module named 'chp1'"
     ]
    }
   ],
   "source": [
    "import re\n",
    "from chp1.advanced_link_crawler import download\n",
    "\n",
    "url = 'http://example.webscraping.com/view/UnitedKingdom-239'\n",
    "html = download(url)\n",
    "\n",
    "print(re.findall(r'<td class=\"w2p_fw\">(.*?)</td>', html))\n",
    "\n",
    "print(re.findall('<td class=\"w2p_fw\">(.*?)</td>', html)[1])\n",
    "\n",
    "print(re.findall('<tr id=\"places_area__row\"><td class=\"w2p_fl\"><label for=\"places_area\" id=\"places_area__label\">Area: </label></td><td class=\"w2p_fw\">(.*?)</td>', html))\n",
    "\n",
    "print(re.findall('''<tr id=\"places_area__row\">.*?<td\\s*class=[\"']w2p_fw[\"']>(.*?)</td>''', html))"
   ]
  },
  {
   "cell_type": "code",
   "execution_count": 4,
   "metadata": {},
   "outputs": [
    {
     "name": "stdout",
     "output_type": "stream",
     "text": [
      "207,600 square kilometres\n"
     ]
    }
   ],
   "source": [
    "from bs4 import BeautifulSoup\n",
    "#from chp1.advanced_link_crawler import download\n",
    "from urllib.request import urlopen\n",
    "\n",
    "url = 'http://example.webscraping.com/places/default/view/Belarus-21'\n",
    "html = urlopen(url)\n",
    "soup = BeautifulSoup(html, 'html5lib')\n",
    "\n",
    "\n",
    "\n",
    "\n",
    "# locate the area row\n",
    "tr = soup.find(attrs={'id': 'places_area__row'})\n",
    "\n",
    "td = tr.find(attrs={'class': 'w2p_fw'})  # locate the data\n",
    "area = td.text  # extract the data\n",
    "print(area)"
   ]
  },
  {
   "cell_type": "code",
   "execution_count": null,
   "metadata": {
    "collapsed": true
   },
   "outputs": [],
   "source": []
  }
 ],
 "metadata": {
  "kernelspec": {
   "display_name": "Python 3",
   "language": "python",
   "name": "python3"
  },
  "language_info": {
   "codemirror_mode": {
    "name": "ipython",
    "version": 3
   },
   "file_extension": ".py",
   "mimetype": "text/x-python",
   "name": "python",
   "nbconvert_exporter": "python",
   "pygments_lexer": "ipython3",
   "version": "3.6.2"
  }
 },
 "nbformat": 4,
 "nbformat_minor": 2
}
