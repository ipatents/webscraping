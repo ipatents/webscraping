{
 "cells": [
  {
   "cell_type": "code",
   "execution_count": 1,
   "metadata": {
    "collapsed": true
   },
   "outputs": [],
   "source": [
    "# This is a work in progress...\n",
    "\n",
    "# The first step grabs the link the second step grabs the heading, abstract and claims. \n",
    "# We still have to add loops to run through all the links and push the data to an \n",
    "# SQL Database. Additionally we will need to change the urls to \n",
    "# specify our searches. These are the three steps we will be commiting to the repository.\n",
    "\n",
    "# import libraries\n",
    "import urllib2\n",
    "from bs4 import BeautifulSoup"
   ]
  },
  {
   "cell_type": "code",
   "execution_count": 2,
   "metadata": {
    "collapsed": true
   },
   "outputs": [],
   "source": [
    "# specify the url\n",
    "#quote_page = 'http://patft.uspto.gov/netacgi/nph-Parser?Sect1=PTO2&Sect2=HITOFF&u=%2Fnetahtml%2FPTO%2Fsearch-adv.htm&r=0&p=1&f=S&l=50&Query=python%0D%0Aand%0D%0AISD%2F1%2F1%2F1995-%3E1%2F31%2F1999%0D%0A&d=PTXT'\n",
    "quote_page = 'http://patft.uspto.gov/netacgi/nph-Parser?Sect1=PTO2&Sect2=HITOFF&u=%2Fnetahtml%2FPTO%2Fsearch-adv.htm&r=0&p=1&f=S&l=50&Query=ACLM%2Fpython+&d=PTXT'"
   ]
  },
  {
   "cell_type": "code",
   "execution_count": 3,
   "metadata": {
    "collapsed": true
   },
   "outputs": [],
   "source": [
    "# query the website and return the html to the variable ‘page’\n",
    "page = urllib2.urlopen(quote_page)"
   ]
  },
  {
   "cell_type": "code",
   "execution_count": 4,
   "metadata": {
    "collapsed": true
   },
   "outputs": [],
   "source": [
    "# parse the html using beautiful soap and store in variable `soup`\n",
    "soup = BeautifulSoup(page, 'html.parser')"
   ]
  },
  {
   "cell_type": "code",
   "execution_count": 5,
   "metadata": {
    "collapsed": true
   },
   "outputs": [],
   "source": [
    "# Take out the <div> of name and get its value\n",
    "name_box = soup.find('h1', attrs={'class': 'name'})"
   ]
  },
  {
   "cell_type": "markdown",
   "metadata": {},
   "source": [
    "soup"
   ]
  },
  {
   "cell_type": "code",
   "execution_count": 6,
   "metadata": {},
   "outputs": [
    {
     "data": {
      "text/plain": [
       "<html>\\n<head>\\n<base target=\"_top\"/>\\n<title>Patent Database Search Results: ACLM/python in US Patent Collection</title>\\n<script language=\"javascript\">\\nvar clicked = false;\\n// Shamelessly adapted from http://www.randomsnippets.com/2008/02/21/how-to-dynamically-add-form-elements-via-javascript/ 09-04-14. jh\\nfunction addInput(divName,btnName,btnLabel) {\\n   var newdiv = document.createElement('div');\\n   newdiv.innerHTML = \"<input type='hidden' name='\" + btnName +\\n\\t\\t\\t\"' value='\" + btnLabel + \"'>\";\\n   divName.appendChild(newdiv);\\n}\\n// -- 09-04-14.\\nfunction check(form1,formBtn) {\\n   // if submitted by <enter> key, add a submit button lookalike to prevent\\n   // 1003 errs from BRS. 9-4-14 jh\\n   if (!clicked)\\n      addInput (form1,formBtn.name,formBtn.value);\\n   return true;\\n}\\nfunction unesc(){\\n   srchForm.Srch1.value = unescape(srchForm.Srch1.value);\\n   if (srchForm.Srch2)\\n      srchForm.Srch2.value = unescape(srchForm.Srch2.value);\\n}\\nfunction unesc2(){\\n   srchForm2.Srch1.value = unescape(srchForm2.Srch1.value);\\n   if (srchForm2.Srch2)\\n      srchForm2.Srch2.value = unescape(srchForm2.Srch2.value);\\n}\\nfunction decod(){\\n   document.title = decodeURIComponent(document.title);\\n   refine.Query.value = decodeURIComponent(refine.Query.value);\\n   var x = document.getElementById(\"srchtext\").childNodes[0];\\n   x.data = decodeURIComponent(x.data);\\n}\\n</script>\\n</head>\\n<body bgcolor=\"#FFFFFF\" onload=\"decod()\">\\n<center>\\n<img alt=\"[US Patent &amp; Trademark Office, Patent Full Text and Image Database]\" src=\"/netaicon/PTO/patfthdr.gif\"/>\\n<br/>\\n<a name=\"top\">\\n<table>\\n<tr><td>\\n<a href=\"/netahtml/PTO/index.html\"><img alt=\"[Home]\" border=\"0\" src=\"/netaicon/PTO/home.gif\"/></a>\\n<a href=\"/netahtml/PTO/search-bool.html\"><img alt=\"[Boolean Search]\" border=\"0\" src=\"/netaicon/PTO/boolean.gif\"/></a>\\n<a href=\"/netahtml/PTO/search-adv.htm\"><img alt=\"[Manual Search]\" border=\"0\" src=\"/netaicon/PTO/manual.gif\"/></a>\\n<a href=\"/netahtml/PTO/srchnum.htm\"><img alt=\"[Number Search]\" border=\"0\" src=\"/netaicon/PTO/number.gif\"/></a>\\n<a href=\"/netahtml/PTO/help/help.htm\"><img alt=\"[Help]\" border=\"0\" src=\"/netaicon/PTO/help.gif\"/></a>\\n</td></tr>\\n</table>\\n<a href=\"/netacgi/nph-Parser?Sect1=PTO2&amp;Sect2=HITOFF&amp;u=%2Fnetahtml%2FPTO%2Fsearch-adv.htm&amp;r=0&amp;p=2&amp;f=S&amp;l=50&amp;d=PTXT&amp;S1=(python.CLTX.+or+python.DCTX.)&amp;Page=Next&amp;OS=ACLM/python&amp;RS=ACLM/python\"><img align=\"MIDDLE\" alt=\"[NEXT_LIST]\" border=\"0\" src=\"/netaicon/PTO/nextlist.gif\"/></a>\\n<a href=\"#bottom\"><img align=\"middle\" alt=\"[Bottom]\" border=\"0\" src=\"/netaicon/PTO/bottom.gif\"/></a>\\n<a href=\"http://ebiz1.uspto.gov/vision-service/ShoppingCart_P/ShowShoppingCart?backUrl1=http%3A//patft.uspto.gov/netacgi/nph-Parser?Sect1%3DPTO2%26Sect2%3DHITOFF%26u%3D%252Fnetahtml%252FPTO%252Fsearch-adv.htm%26r%3D0%26p%3D1%26f%3DS%26l%3D50%26Query%3DACLM%252Fpython%252B%26d%3DPTXT&amp;backLabel1=Back%20to%20Document%3A%20ACLM/python\"><img align=\"middle\" alt=\"[View Shopping Cart]\" border=\"0\" src=\"/netaicon/PTO/cart.gif\"/></a>\\n</a></center>\\n<p>\\n<i>Searching US Patent Collection...</i><br/></p>\\n<b>Results of Search in US Patent Collection db for:<br/> <span id=\"srchtext\">ACLM/python</span></b>: 131 patents.\\n<br/><i>Hits <strong>1</strong> through <strong>50\\n</strong> out of <strong>131</strong>\\n</i><p>\\n<br/>\\n<form action=\"/netacgi/nph-Parser\" method=\"GET\" name=\"srchForm\" onsubmit=\"unesc()\">\\n<input name=\"Sect1\" type=\"HIDDEN\" value=\"PTO2\"/>\\n<input name=\"Sect2\" type=\"HIDDEN\" value=\"HITOFF\"/>\\n<input name=\"u\" type=\"HIDDEN\" value=\"/netahtml/PTO/search-adv.htm\"/>\\n<input name=\"r\" type=\"HIDDEN\" value=\"0\"/>\\n<input name=\"f\" type=\"HIDDEN\" value=\"S\"/>\\n<input name=\"l\" type=\"HIDDEN\" value=\"50\"/>\\n<input name=\"d\" type=\"HIDDEN\" value=\"PTXT\"/>\\n<input name=\"OS\" type=\"HIDDEN\" value=\"ACLM/python\"/>\\n<input name=\"RS\" type=\"HIDDEN\" value=\"ACLM/python\"/>\\n<input name=\"Query\" type=\"HIDDEN\" value=\"ACLM/python\"/>\\n<input name=\"TD\" type=\"HIDDEN\" value=\"131\"/>\\n<input name=\"Srch1\" type=\"HIDDEN\" value=\"(python.CLTX. or python.DCTX.)\"/>\\n<input name=\"NextList2\" type=\"submit\" value=\"Next 50 Hits\"/><br/><br/>\\n</form>\\n<form action=\"/netacgi/nph-Parser\" method=\"GET\" name=\"srchForm2\" onsubmit=\"unesc2();check(this,this.StartAt)\">\\n<input name=\"Sect1\" type=\"HIDDEN\" value=\"PTO2\"/>\\n<input name=\"Sect2\" type=\"HIDDEN\" value=\"HITOFF\"/>\\n<input name=\"u\" type=\"HIDDEN\" value=\"/netahtml/PTO/search-adv.htm\"/>\\n<input name=\"r\" type=\"HIDDEN\" value=\"0\"/>\\n<input name=\"f\" type=\"HIDDEN\" value=\"S\"/>\\n<input name=\"l\" type=\"HIDDEN\" value=\"50\"/>\\n<input name=\"d\" type=\"HIDDEN\" value=\"PTXT\"/>\\n<input name=\"RS\" type=\"HIDDEN\" value=\"ACLM/python\"/>\\n<input name=\"Query\" type=\"HIDDEN\" value=\"ACLM/python\"/>\\n<input name=\"TD\" type=\"HIDDEN\" value=\"131\"/>\\n<input name=\"Srch1\" type=\"HIDDEN\" value=\"(python.CLTX. or python.DCTX.)\"/>\\n<input name=\"StartAt\" onclick=\"clicked=true;\" type=\"submit\" value=\"Jump To\"/>\\n\\xa0\\n<input name=\"StartNum\" size=\"6\" title=\"Record Number\"/> <!-- 2/21/14 508 -->\\n</form>\\n<br/><br/>\\n<form action=\"/netacgi/nph-Parser\" method=\"GET\" name=\"refine\" onsubmit=\"check(this,this.Refine)\">\\n<input name=\"Sect1\" type=\"HIDDEN\" value=\"PTO2\"/>\\n<input name=\"Sect2\" type=\"HIDDEN\" value=\"HITOFF\"/>\\n<input name=\"u\" type=\"HIDDEN\" value=\"/netahtml/PTO/search-adv.htm\"/>\\n<input name=\"r\" type=\"HIDDEN\" value=\"0\"/>\\n<input name=\"f\" type=\"HIDDEN\" value=\"S\"/>\\n<input name=\"l\" type=\"HIDDEN\" value=\"50\"/>\\n<input name=\"d\" type=\"HIDDEN\" value=\"PTXT\"/>\\n<input name=\"RS\" type=\"HIDDEN\" value=\"ACLM/python\"/>\\n<input name=\"Refine\" onclick=\"clicked=true;\" type=\"submit\" value=\"Refine Search\"/>\\n<input name=\"Query\" size=\"50\" title=\"Query\" value=\"ACLM/python\"/> <!-- 2/21/14 508 -->\\n</form>\\n<table><tr><td></td><th scope=\"col\">PAT. NO.</th><td></td><th scope=\"col\">Title</th></tr>\\n<tr><td valign=\"top\">1</td>\\n<td valign=\"top\"><a href=\"/netacgi/nph-Parser?Sect1=PTO2&amp;Sect2=HITOFF&amp;u=%2Fnetahtml%2FPTO%2Fsearch-adv.htm&amp;r=1&amp;p=1&amp;f=G&amp;l=50&amp;d=PTXT&amp;S1=(python.CLTX.+or+python.DCTX.)&amp;OS=ACLM/python&amp;RS=ACLM/python\">9,720,117</a></td>\\n<td valign=\"baseline\"><img alt=\"Full-Text\" border=\"0\" src=\"/netaicon/PTO/ftext.gif\"/></td>\\n<td valign=\"top\"><a href=\"/netacgi/nph-Parser?Sect1=PTO2&amp;Sect2=HITOFF&amp;u=%2Fnetahtml%2FPTO%2Fsearch-adv.htm&amp;r=1&amp;p=1&amp;f=G&amp;l=50&amp;d=PTXT&amp;S1=(python.CLTX.+or+python.DCTX.)&amp;OS=ACLM/python&amp;RS=ACLM/python\">Imaging subsurface properties using a parallel processing database system\\n</a></td>\\n<docs: 131=\"\">\\n<tr><td valign=\"top\">2</td>\\n<td valign=\"top\"><a href=\"/netacgi/nph-Parser?Sect1=PTO2&amp;Sect2=HITOFF&amp;u=%2Fnetahtml%2FPTO%2Fsearch-adv.htm&amp;r=2&amp;p=1&amp;f=G&amp;l=50&amp;d=PTXT&amp;S1=(python.CLTX.+or+python.DCTX.)&amp;OS=ACLM/python&amp;RS=ACLM/python\">9,684,495</a></td>\\n<td valign=\"baseline\"><img alt=\"Full-Text\" border=\"0\" src=\"/netaicon/PTO/ftext.gif\"/></td>\\n<td valign=\"top\"><a href=\"/netacgi/nph-Parser?Sect1=PTO2&amp;Sect2=HITOFF&amp;u=%2Fnetahtml%2FPTO%2Fsearch-adv.htm&amp;r=2&amp;p=1&amp;f=G&amp;l=50&amp;d=PTXT&amp;S1=(python.CLTX.+or+python.DCTX.)&amp;OS=ACLM/python&amp;RS=ACLM/python\">Command interpretation\\n</a></td>\\n<docs: 131=\"\">\\n<tr><td valign=\"top\">3</td>\\n<td valign=\"top\"><a href=\"/netacgi/nph-Parser?Sect1=PTO2&amp;Sect2=HITOFF&amp;u=%2Fnetahtml%2FPTO%2Fsearch-adv.htm&amp;r=3&amp;p=1&amp;f=G&amp;l=50&amp;d=PTXT&amp;S1=(python.CLTX.+or+python.DCTX.)&amp;OS=ACLM/python&amp;RS=ACLM/python\">9,672,081</a></td>\\n<td valign=\"baseline\"><img alt=\"Full-Text\" border=\"0\" src=\"/netaicon/PTO/ftext.gif\"/></td>\\n<td valign=\"top\"><a href=\"/netacgi/nph-Parser?Sect1=PTO2&amp;Sect2=HITOFF&amp;u=%2Fnetahtml%2FPTO%2Fsearch-adv.htm&amp;r=3&amp;p=1&amp;f=G&amp;l=50&amp;d=PTXT&amp;S1=(python.CLTX.+or+python.DCTX.)&amp;OS=ACLM/python&amp;RS=ACLM/python\">Native service controller\\n</a></td>\\n<docs: 131=\"\">\\n<tr><td valign=\"top\">4</td>\\n<td valign=\"top\"><a href=\"/netacgi/nph-Parser?Sect1=PTO2&amp;Sect2=HITOFF&amp;u=%2Fnetahtml%2FPTO%2Fsearch-adv.htm&amp;r=4&amp;p=1&amp;f=G&amp;l=50&amp;d=PTXT&amp;S1=(python.CLTX.+or+python.DCTX.)&amp;OS=ACLM/python&amp;RS=ACLM/python\">9,660,870</a></td>\\n<td valign=\"baseline\"><img alt=\"Full-Text\" border=\"0\" src=\"/netaicon/PTO/ftext.gif\"/></td>\\n<td valign=\"top\"><a href=\"/netacgi/nph-Parser?Sect1=PTO2&amp;Sect2=HITOFF&amp;u=%2Fnetahtml%2FPTO%2Fsearch-adv.htm&amp;r=4&amp;p=1&amp;f=G&amp;l=50&amp;d=PTXT&amp;S1=(python.CLTX.+or+python.DCTX.)&amp;OS=ACLM/python&amp;RS=ACLM/python\">Systems and methods of soft patching security vulnerabilities\\n</a></td>\\n<docs: 131=\"\">\\n<tr><td valign=\"top\">5</td>\\n<td valign=\"top\"><a href=\"/netacgi/nph-Parser?Sect1=PTO2&amp;Sect2=HITOFF&amp;u=%2Fnetahtml%2FPTO%2Fsearch-adv.htm&amp;r=5&amp;p=1&amp;f=G&amp;l=50&amp;d=PTXT&amp;S1=(python.CLTX.+or+python.DCTX.)&amp;OS=ACLM/python&amp;RS=ACLM/python\">9,652,606</a></td>\\n<td valign=\"baseline\"><img alt=\"Full-Text\" border=\"0\" src=\"/netaicon/PTO/ftext.gif\"/></td>\\n<td valign=\"top\"><a href=\"/netacgi/nph-Parser?Sect1=PTO2&amp;Sect2=HITOFF&amp;u=%2Fnetahtml%2FPTO%2Fsearch-adv.htm&amp;r=5&amp;p=1&amp;f=G&amp;l=50&amp;d=PTXT&amp;S1=(python.CLTX.+or+python.DCTX.)&amp;OS=ACLM/python&amp;RS=ACLM/python\">Cloud-based active password manager\\n</a></td>\\n<docs: 131=\"\">\\n<tr><td valign=\"top\">6</td>\\n<td valign=\"top\"><a href=\"/netacgi/nph-Parser?Sect1=PTO2&amp;Sect2=HITOFF&amp;u=%2Fnetahtml%2FPTO%2Fsearch-adv.htm&amp;r=6&amp;p=1&amp;f=G&amp;l=50&amp;d=PTXT&amp;S1=(python.CLTX.+or+python.DCTX.)&amp;OS=ACLM/python&amp;RS=ACLM/python\">9,645,800</a></td>\\n<td valign=\"baseline\"><img alt=\"Full-Text\" border=\"0\" src=\"/netaicon/PTO/ftext.gif\"/></td>\\n<td valign=\"top\"><a href=\"/netacgi/nph-Parser?Sect1=PTO2&amp;Sect2=HITOFF&amp;u=%2Fnetahtml%2FPTO%2Fsearch-adv.htm&amp;r=6&amp;p=1&amp;f=G&amp;l=50&amp;d=PTXT&amp;S1=(python.CLTX.+or+python.DCTX.)&amp;OS=ACLM/python&amp;RS=ACLM/python\">System and method for facilitating static analysis of software\\n     applications\\n</a></td>\\n<docs: 131=\"\">\\n<tr><td valign=\"top\">7</td>\\n<td valign=\"top\"><a href=\"/netacgi/nph-Parser?Sect1=PTO2&amp;Sect2=HITOFF&amp;u=%2Fnetahtml%2FPTO%2Fsearch-adv.htm&amp;r=7&amp;p=1&amp;f=G&amp;l=50&amp;d=PTXT&amp;S1=(python.CLTX.+or+python.DCTX.)&amp;OS=ACLM/python&amp;RS=ACLM/python\">9,639,375</a></td>\\n<td valign=\"baseline\"><img alt=\"Full-Text\" border=\"0\" src=\"/netaicon/PTO/ftext.gif\"/></td>\\n<td valign=\"top\"><a href=\"/netacgi/nph-Parser?Sect1=PTO2&amp;Sect2=HITOFF&amp;u=%2Fnetahtml%2FPTO%2Fsearch-adv.htm&amp;r=7&amp;p=1&amp;f=G&amp;l=50&amp;d=PTXT&amp;S1=(python.CLTX.+or+python.DCTX.)&amp;OS=ACLM/python&amp;RS=ACLM/python\">Generation of language bindings for libraries using data from compiler\\n     generated debug information\\n</a></td>\\n<docs: 131=\"\">\\n<tr><td valign=\"top\">8</td>\\n<td valign=\"top\"><a href=\"/netacgi/nph-Parser?Sect1=PTO2&amp;Sect2=HITOFF&amp;u=%2Fnetahtml%2FPTO%2Fsearch-adv.htm&amp;r=8&amp;p=1&amp;f=G&amp;l=50&amp;d=PTXT&amp;S1=(python.CLTX.+or+python.DCTX.)&amp;OS=ACLM/python&amp;RS=ACLM/python\">9,638,473</a></td>\\n<td valign=\"baseline\"><img alt=\"Full-Text\" border=\"0\" src=\"/netaicon/PTO/ftext.gif\"/></td>\\n<td valign=\"top\"><a href=\"/netacgi/nph-Parser?Sect1=PTO2&amp;Sect2=HITOFF&amp;u=%2Fnetahtml%2FPTO%2Fsearch-adv.htm&amp;r=8&amp;p=1&amp;f=G&amp;l=50&amp;d=PTXT&amp;S1=(python.CLTX.+or+python.DCTX.)&amp;OS=ACLM/python&amp;RS=ACLM/python\">Beverage dispensing assembly comprising beverage distribution python and a\\n     method of producing the beverage distribution python\\n</a></td>\\n<docs: 131=\"\">\\n<tr><td valign=\"top\">9</td>\\n<td valign=\"top\"><a href=\"/netacgi/nph-Parser?Sect1=PTO2&amp;Sect2=HITOFF&amp;u=%2Fnetahtml%2FPTO%2Fsearch-adv.htm&amp;r=9&amp;p=1&amp;f=G&amp;l=50&amp;d=PTXT&amp;S1=(python.CLTX.+or+python.DCTX.)&amp;OS=ACLM/python&amp;RS=ACLM/python\">9,634,900</a></td>\\n<td valign=\"baseline\"><img alt=\"Full-Text\" border=\"0\" src=\"/netaicon/PTO/ftext.gif\"/></td>\\n<td valign=\"top\"><a href=\"/netacgi/nph-Parser?Sect1=PTO2&amp;Sect2=HITOFF&amp;u=%2Fnetahtml%2FPTO%2Fsearch-adv.htm&amp;r=9&amp;p=1&amp;f=G&amp;l=50&amp;d=PTXT&amp;S1=(python.CLTX.+or+python.DCTX.)&amp;OS=ACLM/python&amp;RS=ACLM/python\">Declarative approach to virtual network creation and operation\\n</a></td>\\n<docs: 131=\"\">\\n<tr><td valign=\"top\">10</td>\\n<td valign=\"top\"><a href=\"/netacgi/nph-Parser?Sect1=PTO2&amp;Sect2=HITOFF&amp;u=%2Fnetahtml%2FPTO%2Fsearch-adv.htm&amp;r=10&amp;p=1&amp;f=G&amp;l=50&amp;d=PTXT&amp;S1=(python.CLTX.+or+python.DCTX.)&amp;OS=ACLM/python&amp;RS=ACLM/python\">9,600,806</a></td>\\n<td valign=\"baseline\"><img alt=\"Full-Text\" border=\"0\" src=\"/netaicon/PTO/ftext.gif\"/></td>\\n<td valign=\"top\"><a href=\"/netacgi/nph-Parser?Sect1=PTO2&amp;Sect2=HITOFF&amp;u=%2Fnetahtml%2FPTO%2Fsearch-adv.htm&amp;r=10&amp;p=1&amp;f=G&amp;l=50&amp;d=PTXT&amp;S1=(python.CLTX.+or+python.DCTX.)&amp;OS=ACLM/python&amp;RS=ACLM/python\">Electronic message systems and methods\\n</a></td>\\n<docs: 131=\"\">\\n<tr><td valign=\"top\">11</td>\\n<td valign=\"top\"><a href=\"/netacgi/nph-Parser?Sect1=PTO2&amp;Sect2=HITOFF&amp;u=%2Fnetahtml%2FPTO%2Fsearch-adv.htm&amp;r=11&amp;p=1&amp;f=G&amp;l=50&amp;d=PTXT&amp;S1=(python.CLTX.+or+python.DCTX.)&amp;OS=ACLM/python&amp;RS=ACLM/python\">9,600,243</a></td>\\n<td valign=\"baseline\"><img alt=\"Full-Text\" border=\"0\" src=\"/netaicon/PTO/ftext.gif\"/></td>\\n<td valign=\"top\"><a href=\"/netacgi/nph-Parser?Sect1=PTO2&amp;Sect2=HITOFF&amp;u=%2Fnetahtml%2FPTO%2Fsearch-adv.htm&amp;r=11&amp;p=1&amp;f=G&amp;l=50&amp;d=PTXT&amp;S1=(python.CLTX.+or+python.DCTX.)&amp;OS=ACLM/python&amp;RS=ACLM/python\">Sharing of first class objects across multiple interpreted programming\\n     languages\\n</a></td>\\n<docs: 131=\"\">\\n<tr><td valign=\"top\">12</td>\\n<td valign=\"top\"><a href=\"/netacgi/nph-Parser?Sect1=PTO2&amp;Sect2=HITOFF&amp;u=%2Fnetahtml%2FPTO%2Fsearch-adv.htm&amp;r=12&amp;p=1&amp;f=G&amp;l=50&amp;d=PTXT&amp;S1=(python.CLTX.+or+python.DCTX.)&amp;OS=ACLM/python&amp;RS=ACLM/python\">9,596,292</a></td>\\n<td valign=\"baseline\"><img alt=\"Full-Text\" border=\"0\" src=\"/netaicon/PTO/ftext.gif\"/></td>\\n<td valign=\"top\"><a href=\"/netacgi/nph-Parser?Sect1=PTO2&amp;Sect2=HITOFF&amp;u=%2Fnetahtml%2FPTO%2Fsearch-adv.htm&amp;r=12&amp;p=1&amp;f=G&amp;l=50&amp;d=PTXT&amp;S1=(python.CLTX.+or+python.DCTX.)&amp;OS=ACLM/python&amp;RS=ACLM/python\">Client-side scripts in a service-oriented API environment\\n</a></td>\\n<docs: 131=\"\">\\n<tr><td valign=\"top\">13</td>\\n<td valign=\"top\"><a href=\"/netacgi/nph-Parser?Sect1=PTO2&amp;Sect2=HITOFF&amp;u=%2Fnetahtml%2FPTO%2Fsearch-adv.htm&amp;r=13&amp;p=1&amp;f=G&amp;l=50&amp;d=PTXT&amp;S1=(python.CLTX.+or+python.DCTX.)&amp;OS=ACLM/python&amp;RS=ACLM/python\">9,584,391</a></td>\\n<td valign=\"baseline\"><img alt=\"Full-Text\" border=\"0\" src=\"/netaicon/PTO/ftext.gif\"/></td>\\n<td valign=\"top\"><a href=\"/netacgi/nph-Parser?Sect1=PTO2&amp;Sect2=HITOFF&amp;u=%2Fnetahtml%2FPTO%2Fsearch-adv.htm&amp;r=13&amp;p=1&amp;f=G&amp;l=50&amp;d=PTXT&amp;S1=(python.CLTX.+or+python.DCTX.)&amp;OS=ACLM/python&amp;RS=ACLM/python\">User-configurable network performance monitors\\n</a></td>\\n<docs: 131=\"\">\\n<tr><td valign=\"top\">14</td>\\n<td valign=\"top\"><a href=\"/netacgi/nph-Parser?Sect1=PTO2&amp;Sect2=HITOFF&amp;u=%2Fnetahtml%2FPTO%2Fsearch-adv.htm&amp;r=14&amp;p=1&amp;f=G&amp;l=50&amp;d=PTXT&amp;S1=(python.CLTX.+or+python.DCTX.)&amp;OS=ACLM/python&amp;RS=ACLM/python\">9,582,666</a></td>\\n<td valign=\"baseline\"><img alt=\"Full-Text\" border=\"0\" src=\"/netaicon/PTO/ftext.gif\"/></td>\\n<td valign=\"top\"><a href=\"/netacgi/nph-Parser?Sect1=PTO2&amp;Sect2=HITOFF&amp;u=%2Fnetahtml%2FPTO%2Fsearch-adv.htm&amp;r=14&amp;p=1&amp;f=G&amp;l=50&amp;d=PTXT&amp;S1=(python.CLTX.+or+python.DCTX.)&amp;OS=ACLM/python&amp;RS=ACLM/python\">Computer system for improved security of server computers interacting with\\n     client computers\\n</a></td>\\n<docs: 131=\"\">\\n<tr><td valign=\"top\">15</td>\\n<td valign=\"top\"><a href=\"/netacgi/nph-Parser?Sect1=PTO2&amp;Sect2=HITOFF&amp;u=%2Fnetahtml%2FPTO%2Fsearch-adv.htm&amp;r=15&amp;p=1&amp;f=G&amp;l=50&amp;d=PTXT&amp;S1=(python.CLTX.+or+python.DCTX.)&amp;OS=ACLM/python&amp;RS=ACLM/python\">9,542,244</a></td>\\n<td valign=\"baseline\"><img alt=\"Full-Text\" border=\"0\" src=\"/netaicon/PTO/ftext.gif\"/></td>\\n<td valign=\"top\"><a href=\"/netacgi/nph-Parser?Sect1=PTO2&amp;Sect2=HITOFF&amp;u=%2Fnetahtml%2FPTO%2Fsearch-adv.htm&amp;r=15&amp;p=1&amp;f=G&amp;l=50&amp;d=PTXT&amp;S1=(python.CLTX.+or+python.DCTX.)&amp;OS=ACLM/python&amp;RS=ACLM/python\">Systems and methods for performing primitive tasks using specialized\\n     processors\\n</a></td>\\n<docs: 131=\"\">\\n<tr><td valign=\"top\">16</td>\\n<td valign=\"top\"><a href=\"/netacgi/nph-Parser?Sect1=PTO2&amp;Sect2=HITOFF&amp;u=%2Fnetahtml%2FPTO%2Fsearch-adv.htm&amp;r=16&amp;p=1&amp;f=G&amp;l=50&amp;d=PTXT&amp;S1=(python.CLTX.+or+python.DCTX.)&amp;OS=ACLM/python&amp;RS=ACLM/python\">9,529,890</a></td>\\n<td valign=\"baseline\"><img alt=\"Full-Text\" border=\"0\" src=\"/netaicon/PTO/ftext.gif\"/></td>\\n<td valign=\"top\"><a href=\"/netacgi/nph-Parser?Sect1=PTO2&amp;Sect2=HITOFF&amp;u=%2Fnetahtml%2FPTO%2Fsearch-adv.htm&amp;r=16&amp;p=1&amp;f=G&amp;l=50&amp;d=PTXT&amp;S1=(python.CLTX.+or+python.DCTX.)&amp;OS=ACLM/python&amp;RS=ACLM/python\">System for decomposing events from managed infrastructures using a\\n     topology proximity engine, graph topologies, and k-means clustering\\n</a></td>\\n<docs: 131=\"\">\\n<tr><td valign=\"top\">17</td>\\n<td valign=\"top\"><a href=\"/netacgi/nph-Parser?Sect1=PTO2&amp;Sect2=HITOFF&amp;u=%2Fnetahtml%2FPTO%2Fsearch-adv.htm&amp;r=17&amp;p=1&amp;f=G&amp;l=50&amp;d=PTXT&amp;S1=(python.CLTX.+or+python.DCTX.)&amp;OS=ACLM/python&amp;RS=ACLM/python\">9,514,188</a></td>\\n<td valign=\"baseline\"><img alt=\"Full-Text\" border=\"0\" src=\"/netaicon/PTO/ftext.gif\"/></td>\\n<td valign=\"top\"><a href=\"/netacgi/nph-Parser?Sect1=PTO2&amp;Sect2=HITOFF&amp;u=%2Fnetahtml%2FPTO%2Fsearch-adv.htm&amp;r=17&amp;p=1&amp;f=G&amp;l=50&amp;d=PTXT&amp;S1=(python.CLTX.+or+python.DCTX.)&amp;OS=ACLM/python&amp;RS=ACLM/python\">Integrating map-reduce into a distributed relational database\\n</a></td>\\n<docs: 131=\"\">\\n<tr><td valign=\"top\">18</td>\\n<td valign=\"top\"><a href=\"/netacgi/nph-Parser?Sect1=PTO2&amp;Sect2=HITOFF&amp;u=%2Fnetahtml%2FPTO%2Fsearch-adv.htm&amp;r=18&amp;p=1&amp;f=G&amp;l=50&amp;d=PTXT&amp;S1=(python.CLTX.+or+python.DCTX.)&amp;OS=ACLM/python&amp;RS=ACLM/python\">9,477,646</a></td>\\n<td valign=\"baseline\"><img alt=\"Full-Text\" border=\"0\" src=\"/netaicon/PTO/ftext.gif\"/></td>\\n<td valign=\"top\"><a href=\"/netacgi/nph-Parser?Sect1=PTO2&amp;Sect2=HITOFF&amp;u=%2Fnetahtml%2FPTO%2Fsearch-adv.htm&amp;r=18&amp;p=1&amp;f=G&amp;l=50&amp;d=PTXT&amp;S1=(python.CLTX.+or+python.DCTX.)&amp;OS=ACLM/python&amp;RS=ACLM/python\">Procedurally expressing graphic objects for web pages\\n</a></td>\\n<docs: 131=\"\">\\n<tr><td valign=\"top\">19</td>\\n<td valign=\"top\"><a href=\"/netacgi/nph-Parser?Sect1=PTO2&amp;Sect2=HITOFF&amp;u=%2Fnetahtml%2FPTO%2Fsearch-adv.htm&amp;r=19&amp;p=1&amp;f=G&amp;l=50&amp;d=PTXT&amp;S1=(python.CLTX.+or+python.DCTX.)&amp;OS=ACLM/python&amp;RS=ACLM/python\">9,471,469</a></td>\\n<td valign=\"baseline\"><img alt=\"Full-Text\" border=\"0\" src=\"/netaicon/PTO/ftext.gif\"/></td>\\n<td valign=\"top\"><a href=\"/netacgi/nph-Parser?Sect1=PTO2&amp;Sect2=HITOFF&amp;u=%2Fnetahtml%2FPTO%2Fsearch-adv.htm&amp;r=19&amp;p=1&amp;f=G&amp;l=50&amp;d=PTXT&amp;S1=(python.CLTX.+or+python.DCTX.)&amp;OS=ACLM/python&amp;RS=ACLM/python\">Software automation and regression management systems and methods\\n</a></td>\\n<docs: 131=\"\">\\n<tr><td valign=\"top\">20</td>\\n<td valign=\"top\"><a href=\"/netacgi/nph-Parser?Sect1=PTO2&amp;Sect2=HITOFF&amp;u=%2Fnetahtml%2FPTO%2Fsearch-adv.htm&amp;r=20&amp;p=1&amp;f=G&amp;l=50&amp;d=PTXT&amp;S1=(python.CLTX.+or+python.DCTX.)&amp;OS=ACLM/python&amp;RS=ACLM/python\">9,471,384</a></td>\\n<td valign=\"baseline\"><img alt=\"Full-Text\" border=\"0\" src=\"/netaicon/PTO/ftext.gif\"/></td>\\n<td valign=\"top\"><a href=\"/netacgi/nph-Parser?Sect1=PTO2&amp;Sect2=HITOFF&amp;u=%2Fnetahtml%2FPTO%2Fsearch-adv.htm&amp;r=20&amp;p=1&amp;f=G&amp;l=50&amp;d=PTXT&amp;S1=(python.CLTX.+or+python.DCTX.)&amp;OS=ACLM/python&amp;RS=ACLM/python\">Method and system for utilizing spare cloud resources\\n</a></td>\\n<docs: 131=\"\">\\n<tr><td valign=\"top\">21</td>\\n<td valign=\"top\"><a href=\"/netacgi/nph-Parser?Sect1=PTO2&amp;Sect2=HITOFF&amp;u=%2Fnetahtml%2FPTO%2Fsearch-adv.htm&amp;r=21&amp;p=1&amp;f=G&amp;l=50&amp;d=PTXT&amp;S1=(python.CLTX.+or+python.DCTX.)&amp;OS=ACLM/python&amp;RS=ACLM/python\">9,459,862</a></td>\\n<td valign=\"baseline\"><img alt=\"Full-Text\" border=\"0\" src=\"/netaicon/PTO/ftext.gif\"/></td>\\n<td valign=\"top\"><a href=\"/netacgi/nph-Parser?Sect1=PTO2&amp;Sect2=HITOFF&amp;u=%2Fnetahtml%2FPTO%2Fsearch-adv.htm&amp;r=21&amp;p=1&amp;f=G&amp;l=50&amp;d=PTXT&amp;S1=(python.CLTX.+or+python.DCTX.)&amp;OS=ACLM/python&amp;RS=ACLM/python\">Automated porting of application to mobile infrastructures\\n</a></td>\\n<docs: 131=\"\">\\n<tr><td valign=\"top\">22</td>\\n<td valign=\"top\"><a href=\"/netacgi/nph-Parser?Sect1=PTO2&amp;Sect2=HITOFF&amp;u=%2Fnetahtml%2FPTO%2Fsearch-adv.htm&amp;r=22&amp;p=1&amp;f=G&amp;l=50&amp;d=PTXT&amp;S1=(python.CLTX.+or+python.DCTX.)&amp;OS=ACLM/python&amp;RS=ACLM/python\">9,430,504</a></td>\\n<td valign=\"baseline\"><img alt=\"Full-Text\" border=\"0\" src=\"/netaicon/PTO/ftext.gif\"/></td>\\n<td valign=\"top\"><a href=\"/netacgi/nph-Parser?Sect1=PTO2&amp;Sect2=HITOFF&amp;u=%2Fnetahtml%2FPTO%2Fsearch-adv.htm&amp;r=22&amp;p=1&amp;f=G&amp;l=50&amp;d=PTXT&amp;S1=(python.CLTX.+or+python.DCTX.)&amp;OS=ACLM/python&amp;RS=ACLM/python\">Systems and methods for dynamically intercepting and adjusting persistence\\n     behaviors via runtime configuration\\n</a></td>\\n<docs: 131=\"\">\\n<tr><td valign=\"top\">23</td>\\n<td valign=\"top\"><a href=\"/netacgi/nph-Parser?Sect1=PTO2&amp;Sect2=HITOFF&amp;u=%2Fnetahtml%2FPTO%2Fsearch-adv.htm&amp;r=23&amp;p=1&amp;f=G&amp;l=50&amp;d=PTXT&amp;S1=(python.CLTX.+or+python.DCTX.)&amp;OS=ACLM/python&amp;RS=ACLM/python\">9,405,906</a></td>\\n<td valign=\"baseline\"><img alt=\"Full-Text\" border=\"0\" src=\"/netaicon/PTO/ftext.gif\"/></td>\\n<td valign=\"top\"><a href=\"/netacgi/nph-Parser?Sect1=PTO2&amp;Sect2=HITOFF&amp;u=%2Fnetahtml%2FPTO%2Fsearch-adv.htm&amp;r=23&amp;p=1&amp;f=G&amp;l=50&amp;d=PTXT&amp;S1=(python.CLTX.+or+python.DCTX.)&amp;OS=ACLM/python&amp;RS=ACLM/python\">System and method for enhancing static analysis of software applications\\n</a></td>\\n<docs: 131=\"\">\\n<tr><td valign=\"top\">24</td>\\n<td valign=\"top\"><a href=\"/netacgi/nph-Parser?Sect1=PTO2&amp;Sect2=HITOFF&amp;u=%2Fnetahtml%2FPTO%2Fsearch-adv.htm&amp;r=24&amp;p=1&amp;f=G&amp;l=50&amp;d=PTXT&amp;S1=(python.CLTX.+or+python.DCTX.)&amp;OS=ACLM/python&amp;RS=ACLM/python\">9,361,359</a></td>\\n<td valign=\"baseline\"><img alt=\"Full-Text\" border=\"0\" src=\"/netaicon/PTO/ftext.gif\"/></td>\\n<td valign=\"top\"><a href=\"/netacgi/nph-Parser?Sect1=PTO2&amp;Sect2=HITOFF&amp;u=%2Fnetahtml%2FPTO%2Fsearch-adv.htm&amp;r=24&amp;p=1&amp;f=G&amp;l=50&amp;d=PTXT&amp;S1=(python.CLTX.+or+python.DCTX.)&amp;OS=ACLM/python&amp;RS=ACLM/python\">Accessing schema-free databases\\n</a></td>\\n<docs: 131=\"\">\\n<tr><td valign=\"top\">25</td>\\n<td valign=\"top\"><a href=\"/netacgi/nph-Parser?Sect1=PTO2&amp;Sect2=HITOFF&amp;u=%2Fnetahtml%2FPTO%2Fsearch-adv.htm&amp;r=25&amp;p=1&amp;f=G&amp;l=50&amp;d=PTXT&amp;S1=(python.CLTX.+or+python.DCTX.)&amp;OS=ACLM/python&amp;RS=ACLM/python\">9,333,047</a></td>\\n<td valign=\"baseline\"><img alt=\"Full-Text\" border=\"0\" src=\"/netaicon/PTO/ftext.gif\"/></td>\\n<td valign=\"top\"><a href=\"/netacgi/nph-Parser?Sect1=PTO2&amp;Sect2=HITOFF&amp;u=%2Fnetahtml%2FPTO%2Fsearch-adv.htm&amp;r=25&amp;p=1&amp;f=G&amp;l=50&amp;d=PTXT&amp;S1=(python.CLTX.+or+python.DCTX.)&amp;OS=ACLM/python&amp;RS=ACLM/python\">Method for generating position data of an instrument\\n</a></td>\\n<docs: 131=\"\">\\n<tr><td valign=\"top\">26</td>\\n<td valign=\"top\"><a href=\"/netacgi/nph-Parser?Sect1=PTO2&amp;Sect2=HITOFF&amp;u=%2Fnetahtml%2FPTO%2Fsearch-adv.htm&amp;r=26&amp;p=1&amp;f=G&amp;l=50&amp;d=PTXT&amp;S1=(python.CLTX.+or+python.DCTX.)&amp;OS=ACLM/python&amp;RS=ACLM/python\">9,311,402</a></td>\\n<td valign=\"baseline\"><img alt=\"Full-Text\" border=\"0\" src=\"/netaicon/PTO/ftext.gif\"/></td>\\n<td valign=\"top\"><a href=\"/netacgi/nph-Parser?Sect1=PTO2&amp;Sect2=HITOFF&amp;u=%2Fnetahtml%2FPTO%2Fsearch-adv.htm&amp;r=26&amp;p=1&amp;f=G&amp;l=50&amp;d=PTXT&amp;S1=(python.CLTX.+or+python.DCTX.)&amp;OS=ACLM/python&amp;RS=ACLM/python\">System and method for invoking functionalities using contextual relations\\n</a></td>\\n<docs: 131=\"\">\\n<tr><td valign=\"top\">27</td>\\n<td valign=\"top\"><a href=\"/netacgi/nph-Parser?Sect1=PTO2&amp;Sect2=HITOFF&amp;u=%2Fnetahtml%2FPTO%2Fsearch-adv.htm&amp;r=27&amp;p=1&amp;f=G&amp;l=50&amp;d=PTXT&amp;S1=(python.CLTX.+or+python.DCTX.)&amp;OS=ACLM/python&amp;RS=ACLM/python\">9,300,683</a></td>\\n<td valign=\"baseline\"><img alt=\"Full-Text\" border=\"0\" src=\"/netaicon/PTO/ftext.gif\"/></td>\\n<td valign=\"top\"><a href=\"/netacgi/nph-Parser?Sect1=PTO2&amp;Sect2=HITOFF&amp;u=%2Fnetahtml%2FPTO%2Fsearch-adv.htm&amp;r=27&amp;p=1&amp;f=G&amp;l=50&amp;d=PTXT&amp;S1=(python.CLTX.+or+python.DCTX.)&amp;OS=ACLM/python&amp;RS=ACLM/python\">Identifying bots\\n</a></td>\\n<docs: 131=\"\">\\n<tr><td valign=\"top\">28</td>\\n<td valign=\"top\"><a href=\"/netacgi/nph-Parser?Sect1=PTO2&amp;Sect2=HITOFF&amp;u=%2Fnetahtml%2FPTO%2Fsearch-adv.htm&amp;r=28&amp;p=1&amp;f=G&amp;l=50&amp;d=PTXT&amp;S1=(python.CLTX.+or+python.DCTX.)&amp;OS=ACLM/python&amp;RS=ACLM/python\">9,298,782</a></td>\\n<td valign=\"baseline\"><img alt=\"Full-Text\" border=\"0\" src=\"/netaicon/PTO/ftext.gif\"/></td>\\n<td valign=\"top\"><a href=\"/netacgi/nph-Parser?Sect1=PTO2&amp;Sect2=HITOFF&amp;u=%2Fnetahtml%2FPTO%2Fsearch-adv.htm&amp;r=28&amp;p=1&amp;f=G&amp;l=50&amp;d=PTXT&amp;S1=(python.CLTX.+or+python.DCTX.)&amp;OS=ACLM/python&amp;RS=ACLM/python\">Combinators\\n</a></td>\\n<docs: 131=\"\">\\n<tr><td valign=\"top\">29</td>\\n<td valign=\"top\"><a href=\"/netacgi/nph-Parser?Sect1=PTO2&amp;Sect2=HITOFF&amp;u=%2Fnetahtml%2FPTO%2Fsearch-adv.htm&amp;r=29&amp;p=1&amp;f=G&amp;l=50&amp;d=PTXT&amp;S1=(python.CLTX.+or+python.DCTX.)&amp;OS=ACLM/python&amp;RS=ACLM/python\">9,286,099</a></td>\\n<td valign=\"baseline\"><img alt=\"Full-Text\" border=\"0\" src=\"/netaicon/PTO/ftext.gif\"/></td>\\n<td valign=\"top\"><a href=\"/netacgi/nph-Parser?Sect1=PTO2&amp;Sect2=HITOFF&amp;u=%2Fnetahtml%2FPTO%2Fsearch-adv.htm&amp;r=29&amp;p=1&amp;f=G&amp;l=50&amp;d=PTXT&amp;S1=(python.CLTX.+or+python.DCTX.)&amp;OS=ACLM/python&amp;RS=ACLM/python\">Balancing virtual machine loads\\n</a></td>\\n<docs: 131=\"\">\\n<tr><td valign=\"top\">30</td>\\n<td valign=\"top\"><a href=\"/netacgi/nph-Parser?Sect1=PTO2&amp;Sect2=HITOFF&amp;u=%2Fnetahtml%2FPTO%2Fsearch-adv.htm&amp;r=30&amp;p=1&amp;f=G&amp;l=50&amp;d=PTXT&amp;S1=(python.CLTX.+or+python.DCTX.)&amp;OS=ACLM/python&amp;RS=ACLM/python\">9,262,156</a></td>\\n<td valign=\"baseline\"><img alt=\"Full-Text\" border=\"0\" src=\"/netaicon/PTO/ftext.gif\"/></td>\\n<td valign=\"top\"><a href=\"/netacgi/nph-Parser?Sect1=PTO2&amp;Sect2=HITOFF&amp;u=%2Fnetahtml%2FPTO%2Fsearch-adv.htm&amp;r=30&amp;p=1&amp;f=G&amp;l=50&amp;d=PTXT&amp;S1=(python.CLTX.+or+python.DCTX.)&amp;OS=ACLM/python&amp;RS=ACLM/python\">Methods for transparent management of context and state in an asynchronous\\n     callback flow\\n</a></td>\\n<docs: 131=\"\">\\n<tr><td valign=\"top\">31</td>\\n<td valign=\"top\"><a href=\"/netacgi/nph-Parser?Sect1=PTO2&amp;Sect2=HITOFF&amp;u=%2Fnetahtml%2FPTO%2Fsearch-adv.htm&amp;r=31&amp;p=1&amp;f=G&amp;l=50&amp;d=PTXT&amp;S1=(python.CLTX.+or+python.DCTX.)&amp;OS=ACLM/python&amp;RS=ACLM/python\">9,250,940</a></td>\\n<td valign=\"baseline\"><img alt=\"Full-Text\" border=\"0\" src=\"/netaicon/PTO/ftext.gif\"/></td>\\n<td valign=\"top\"><a href=\"/netacgi/nph-Parser?Sect1=PTO2&amp;Sect2=HITOFF&amp;u=%2Fnetahtml%2FPTO%2Fsearch-adv.htm&amp;r=31&amp;p=1&amp;f=G&amp;l=50&amp;d=PTXT&amp;S1=(python.CLTX.+or+python.DCTX.)&amp;OS=ACLM/python&amp;RS=ACLM/python\">Virtualization detection\\n</a></td>\\n<docs: 131=\"\">\\n<tr><td valign=\"top\">32</td>\\n<td valign=\"top\"><a href=\"/netacgi/nph-Parser?Sect1=PTO2&amp;Sect2=HITOFF&amp;u=%2Fnetahtml%2FPTO%2Fsearch-adv.htm&amp;r=32&amp;p=1&amp;f=G&amp;l=50&amp;d=PTXT&amp;S1=(python.CLTX.+or+python.DCTX.)&amp;OS=ACLM/python&amp;RS=ACLM/python\">9,218,567</a></td>\\n<td valign=\"baseline\"><img alt=\"Full-Text\" border=\"0\" src=\"/netaicon/PTO/ftext.gif\"/></td>\\n<td valign=\"top\"><a href=\"/netacgi/nph-Parser?Sect1=PTO2&amp;Sect2=HITOFF&amp;u=%2Fnetahtml%2FPTO%2Fsearch-adv.htm&amp;r=32&amp;p=1&amp;f=G&amp;l=50&amp;d=PTXT&amp;S1=(python.CLTX.+or+python.DCTX.)&amp;OS=ACLM/python&amp;RS=ACLM/python\">Quantum processor based systems and methods that minimize an objective\\n     function\\n</a></td>\\n<docs: 131=\"\">\\n<tr><td valign=\"top\">33</td>\\n<td valign=\"top\"><a href=\"/netacgi/nph-Parser?Sect1=PTO2&amp;Sect2=HITOFF&amp;u=%2Fnetahtml%2FPTO%2Fsearch-adv.htm&amp;r=33&amp;p=1&amp;f=G&amp;l=50&amp;d=PTXT&amp;S1=(python.CLTX.+or+python.DCTX.)&amp;OS=ACLM/python&amp;RS=ACLM/python\">9,152,533</a></td>\\n<td valign=\"baseline\"><img alt=\"Full-Text\" border=\"0\" src=\"/netaicon/PTO/ftext.gif\"/></td>\\n<td valign=\"top\"><a href=\"/netacgi/nph-Parser?Sect1=PTO2&amp;Sect2=HITOFF&amp;u=%2Fnetahtml%2FPTO%2Fsearch-adv.htm&amp;r=33&amp;p=1&amp;f=G&amp;l=50&amp;d=PTXT&amp;S1=(python.CLTX.+or+python.DCTX.)&amp;OS=ACLM/python&amp;RS=ACLM/python\">Asynchronous programming system\\n</a></td>\\n<docs: 131=\"\">\\n<tr><td valign=\"top\">34</td>\\n<td valign=\"top\"><a href=\"/netacgi/nph-Parser?Sect1=PTO2&amp;Sect2=HITOFF&amp;u=%2Fnetahtml%2FPTO%2Fsearch-adv.htm&amp;r=34&amp;p=1&amp;f=G&amp;l=50&amp;d=PTXT&amp;S1=(python.CLTX.+or+python.DCTX.)&amp;OS=ACLM/python&amp;RS=ACLM/python\">9,098,319</a></td>\\n<td valign=\"baseline\"><img alt=\"Full-Text\" border=\"0\" src=\"/netaicon/PTO/ftext.gif\"/></td>\\n<td valign=\"top\"><a href=\"/netacgi/nph-Parser?Sect1=PTO2&amp;Sect2=HITOFF&amp;u=%2Fnetahtml%2FPTO%2Fsearch-adv.htm&amp;r=34&amp;p=1&amp;f=G&amp;l=50&amp;d=PTXT&amp;S1=(python.CLTX.+or+python.DCTX.)&amp;OS=ACLM/python&amp;RS=ACLM/python\">Code conversion method, program, and system for garbage collection\\n</a></td>\\n<docs: 131=\"\">\\n<tr><td valign=\"top\">35</td>\\n<td valign=\"top\"><a href=\"/netacgi/nph-Parser?Sect1=PTO2&amp;Sect2=HITOFF&amp;u=%2Fnetahtml%2FPTO%2Fsearch-adv.htm&amp;r=35&amp;p=1&amp;f=G&amp;l=50&amp;d=PTXT&amp;S1=(python.CLTX.+or+python.DCTX.)&amp;OS=ACLM/python&amp;RS=ACLM/python\">9,092,440</a></td>\\n<td valign=\"baseline\"><img alt=\"Full-Text\" border=\"0\" src=\"/netaicon/PTO/ftext.gif\"/></td>\\n<td valign=\"top\"><a href=\"/netacgi/nph-Parser?Sect1=PTO2&amp;Sect2=HITOFF&amp;u=%2Fnetahtml%2FPTO%2Fsearch-adv.htm&amp;r=35&amp;p=1&amp;f=G&amp;l=50&amp;d=PTXT&amp;S1=(python.CLTX.+or+python.DCTX.)&amp;OS=ACLM/python&amp;RS=ACLM/python\">Generating a translation of operations for a data structure\\n</a></td>\\n<docs: 131=\"\">\\n<tr><td valign=\"top\">36</td>\\n<td valign=\"top\"><a href=\"/netacgi/nph-Parser?Sect1=PTO2&amp;Sect2=HITOFF&amp;u=%2Fnetahtml%2FPTO%2Fsearch-adv.htm&amp;r=36&amp;p=1&amp;f=G&amp;l=50&amp;d=PTXT&amp;S1=(python.CLTX.+or+python.DCTX.)&amp;OS=ACLM/python&amp;RS=ACLM/python\">9,086,931</a></td>\\n<td valign=\"baseline\"><img alt=\"Full-Text\" border=\"0\" src=\"/netaicon/PTO/ftext.gif\"/></td>\\n<td valign=\"top\"><a href=\"/netacgi/nph-Parser?Sect1=PTO2&amp;Sect2=HITOFF&amp;u=%2Fnetahtml%2FPTO%2Fsearch-adv.htm&amp;r=36&amp;p=1&amp;f=G&amp;l=50&amp;d=PTXT&amp;S1=(python.CLTX.+or+python.DCTX.)&amp;OS=ACLM/python&amp;RS=ACLM/python\">System for translating diverse programming languages\\n</a></td>\\n<docs: 131=\"\">\\n<tr><td valign=\"top\">37</td>\\n<td valign=\"top\"><a href=\"/netacgi/nph-Parser?Sect1=PTO2&amp;Sect2=HITOFF&amp;u=%2Fnetahtml%2FPTO%2Fsearch-adv.htm&amp;r=37&amp;p=1&amp;f=G&amp;l=50&amp;d=PTXT&amp;S1=(python.CLTX.+or+python.DCTX.)&amp;OS=ACLM/python&amp;RS=ACLM/python\">9,081,761</a></td>\\n<td valign=\"baseline\"><img alt=\"Full-Text\" border=\"0\" src=\"/netaicon/PTO/ftext.gif\"/></td>\\n<td valign=\"top\"><a href=\"/netacgi/nph-Parser?Sect1=PTO2&amp;Sect2=HITOFF&amp;u=%2Fnetahtml%2FPTO%2Fsearch-adv.htm&amp;r=37&amp;p=1&amp;f=G&amp;l=50&amp;d=PTXT&amp;S1=(python.CLTX.+or+python.DCTX.)&amp;OS=ACLM/python&amp;RS=ACLM/python\">Mistake avoidance and correction suggestions\\n</a></td>\\n<docs: 131=\"\">\\n<tr><td valign=\"top\">38</td>\\n<td valign=\"top\"><a href=\"/netacgi/nph-Parser?Sect1=PTO2&amp;Sect2=HITOFF&amp;u=%2Fnetahtml%2FPTO%2Fsearch-adv.htm&amp;r=38&amp;p=1&amp;f=G&amp;l=50&amp;d=PTXT&amp;S1=(python.CLTX.+or+python.DCTX.)&amp;OS=ACLM/python&amp;RS=ACLM/python\">9,077,773</a></td>\\n<td valign=\"baseline\"><img alt=\"Full-Text\" border=\"0\" src=\"/netaicon/PTO/ftext.gif\"/></td>\\n<td valign=\"top\"><a href=\"/netacgi/nph-Parser?Sect1=PTO2&amp;Sect2=HITOFF&amp;u=%2Fnetahtml%2FPTO%2Fsearch-adv.htm&amp;r=38&amp;p=1&amp;f=G&amp;l=50&amp;d=PTXT&amp;S1=(python.CLTX.+or+python.DCTX.)&amp;OS=ACLM/python&amp;RS=ACLM/python\">Cloud-based hub for facilitating distribution and consumption of\\n     application programming interfaces\\n</a></td>\\n<docs: 131=\"\">\\n<tr><td valign=\"top\">39</td>\\n<td valign=\"top\"><a href=\"/netacgi/nph-Parser?Sect1=PTO2&amp;Sect2=HITOFF&amp;u=%2Fnetahtml%2FPTO%2Fsearch-adv.htm&amp;r=39&amp;p=1&amp;f=G&amp;l=50&amp;d=PTXT&amp;S1=(python.CLTX.+or+python.DCTX.)&amp;OS=ACLM/python&amp;RS=ACLM/python\">9,061,880</a></td>\\n<td valign=\"baseline\"><img alt=\"Full-Text\" border=\"0\" src=\"/netaicon/PTO/ftext.gif\"/></td>\\n<td valign=\"top\"><a href=\"/netacgi/nph-Parser?Sect1=PTO2&amp;Sect2=HITOFF&amp;u=%2Fnetahtml%2FPTO%2Fsearch-adv.htm&amp;r=39&amp;p=1&amp;f=G&amp;l=50&amp;d=PTXT&amp;S1=(python.CLTX.+or+python.DCTX.)&amp;OS=ACLM/python&amp;RS=ACLM/python\">Liquid cooling apparatus and method therefor\\n</a></td>\\n<docs: 131=\"\">\\n<tr><td valign=\"top\">40</td>\\n<td valign=\"top\"><a href=\"/netacgi/nph-Parser?Sect1=PTO2&amp;Sect2=HITOFF&amp;u=%2Fnetahtml%2FPTO%2Fsearch-adv.htm&amp;r=40&amp;p=1&amp;f=G&amp;l=50&amp;d=PTXT&amp;S1=(python.CLTX.+or+python.DCTX.)&amp;OS=ACLM/python&amp;RS=ACLM/python\">9,032,537</a></td>\\n<td valign=\"baseline\"><img alt=\"Full-Text\" border=\"0\" src=\"/netaicon/PTO/ftext.gif\"/></td>\\n<td valign=\"top\"><a href=\"/netacgi/nph-Parser?Sect1=PTO2&amp;Sect2=HITOFF&amp;u=%2Fnetahtml%2FPTO%2Fsearch-adv.htm&amp;r=40&amp;p=1&amp;f=G&amp;l=50&amp;d=PTXT&amp;S1=(python.CLTX.+or+python.DCTX.)&amp;OS=ACLM/python&amp;RS=ACLM/python\">Secure active element machine\\n</a></td>\\n<docs: 131=\"\">\\n<tr><td valign=\"top\">41</td>\\n<td valign=\"top\"><a href=\"/netacgi/nph-Parser?Sect1=PTO2&amp;Sect2=HITOFF&amp;u=%2Fnetahtml%2FPTO%2Fsearch-adv.htm&amp;r=41&amp;p=1&amp;f=G&amp;l=50&amp;d=PTXT&amp;S1=(python.CLTX.+or+python.DCTX.)&amp;OS=ACLM/python&amp;RS=ACLM/python\">9,027,008</a></td>\\n<td valign=\"baseline\"><img alt=\"Full-Text\" border=\"0\" src=\"/netaicon/PTO/ftext.gif\"/></td>\\n<td valign=\"top\"><a href=\"/netacgi/nph-Parser?Sect1=PTO2&amp;Sect2=HITOFF&amp;u=%2Fnetahtml%2FPTO%2Fsearch-adv.htm&amp;r=41&amp;p=1&amp;f=G&amp;l=50&amp;d=PTXT&amp;S1=(python.CLTX.+or+python.DCTX.)&amp;OS=ACLM/python&amp;RS=ACLM/python\">Method, computer, and computer program for speculatively optimizing code\\n</a></td>\\n<docs: 131=\"\">\\n<tr><td valign=\"top\">42</td>\\n<td valign=\"top\"><a href=\"/netacgi/nph-Parser?Sect1=PTO2&amp;Sect2=HITOFF&amp;u=%2Fnetahtml%2FPTO%2Fsearch-adv.htm&amp;r=42&amp;p=1&amp;f=G&amp;l=50&amp;d=PTXT&amp;S1=(python.CLTX.+or+python.DCTX.)&amp;OS=ACLM/python&amp;RS=ACLM/python\">9,003,385</a></td>\\n<td valign=\"baseline\"><img alt=\"Full-Text\" border=\"0\" src=\"/netaicon/PTO/ftext.gif\"/></td>\\n<td valign=\"top\"><a href=\"/netacgi/nph-Parser?Sect1=PTO2&amp;Sect2=HITOFF&amp;u=%2Fnetahtml%2FPTO%2Fsearch-adv.htm&amp;r=42&amp;p=1&amp;f=G&amp;l=50&amp;d=PTXT&amp;S1=(python.CLTX.+or+python.DCTX.)&amp;OS=ACLM/python&amp;RS=ACLM/python\">Software release\\n</a></td>\\n<docs: 131=\"\">\\n<tr><td valign=\"top\">43</td>\\n<td valign=\"top\"><a href=\"/netacgi/nph-Parser?Sect1=PTO2&amp;Sect2=HITOFF&amp;u=%2Fnetahtml%2FPTO%2Fsearch-adv.htm&amp;r=43&amp;p=1&amp;f=G&amp;l=50&amp;d=PTXT&amp;S1=(python.CLTX.+or+python.DCTX.)&amp;OS=ACLM/python&amp;RS=ACLM/python\">8,991,653</a></td>\\n<td valign=\"baseline\"><img alt=\"Full-Text\" border=\"0\" src=\"/netaicon/PTO/ftext.gif\"/></td>\\n<td valign=\"top\"><a href=\"/netacgi/nph-Parser?Sect1=PTO2&amp;Sect2=HITOFF&amp;u=%2Fnetahtml%2FPTO%2Fsearch-adv.htm&amp;r=43&amp;p=1&amp;f=G&amp;l=50&amp;d=PTXT&amp;S1=(python.CLTX.+or+python.DCTX.)&amp;OS=ACLM/python&amp;RS=ACLM/python\">Tapping head, tapping device and method for use of a tapping device\\n</a></td>\\n<docs: 131=\"\">\\n<tr><td valign=\"top\">44</td>\\n<td valign=\"top\"><a href=\"/netacgi/nph-Parser?Sect1=PTO2&amp;Sect2=HITOFF&amp;u=%2Fnetahtml%2FPTO%2Fsearch-adv.htm&amp;r=44&amp;p=1&amp;f=G&amp;l=50&amp;d=PTXT&amp;S1=(python.CLTX.+or+python.DCTX.)&amp;OS=ACLM/python&amp;RS=ACLM/python\">8,972,489</a></td>\\n<td valign=\"baseline\"><img alt=\"Full-Text\" border=\"0\" src=\"/netaicon/PTO/ftext.gif\"/></td>\\n<td valign=\"top\"><a href=\"/netacgi/nph-Parser?Sect1=PTO2&amp;Sect2=HITOFF&amp;u=%2Fnetahtml%2FPTO%2Fsearch-adv.htm&amp;r=44&amp;p=1&amp;f=G&amp;l=50&amp;d=PTXT&amp;S1=(python.CLTX.+or+python.DCTX.)&amp;OS=ACLM/python&amp;RS=ACLM/python\">Providing a client interface for a server-based web application\\n     programming interface\\n</a></td>\\n<docs: 131=\"\">\\n<tr><td valign=\"top\">45</td>\\n<td valign=\"top\"><a href=\"/netacgi/nph-Parser?Sect1=PTO2&amp;Sect2=HITOFF&amp;u=%2Fnetahtml%2FPTO%2Fsearch-adv.htm&amp;r=45&amp;p=1&amp;f=G&amp;l=50&amp;d=PTXT&amp;S1=(python.CLTX.+or+python.DCTX.)&amp;OS=ACLM/python&amp;RS=ACLM/python\">8,965,742</a></td>\\n<td valign=\"baseline\"><img alt=\"Full-Text\" border=\"0\" src=\"/netaicon/PTO/ftext.gif\"/></td>\\n<td valign=\"top\"><a href=\"/netacgi/nph-Parser?Sect1=PTO2&amp;Sect2=HITOFF&amp;u=%2Fnetahtml%2FPTO%2Fsearch-adv.htm&amp;r=45&amp;p=1&amp;f=G&amp;l=50&amp;d=PTXT&amp;S1=(python.CLTX.+or+python.DCTX.)&amp;OS=ACLM/python&amp;RS=ACLM/python\">Hierarchically scoped resettable variables in graphical modeling\\n     environments\\n</a></td>\\n<docs: 131=\"\">\\n<tr><td valign=\"top\">46</td>\\n<td valign=\"top\"><a href=\"/netacgi/nph-Parser?Sect1=PTO2&amp;Sect2=HITOFF&amp;u=%2Fnetahtml%2FPTO%2Fsearch-adv.htm&amp;r=46&amp;p=1&amp;f=G&amp;l=50&amp;d=PTXT&amp;S1=(python.CLTX.+or+python.DCTX.)&amp;OS=ACLM/python&amp;RS=ACLM/python\">8,954,926</a></td>\\n<td valign=\"baseline\"><img alt=\"Full-Text\" border=\"0\" src=\"/netaicon/PTO/ftext.gif\"/></td>\\n<td valign=\"top\"><a href=\"/netacgi/nph-Parser?Sect1=PTO2&amp;Sect2=HITOFF&amp;u=%2Fnetahtml%2FPTO%2Fsearch-adv.htm&amp;r=46&amp;p=1&amp;f=G&amp;l=50&amp;d=PTXT&amp;S1=(python.CLTX.+or+python.DCTX.)&amp;OS=ACLM/python&amp;RS=ACLM/python\">Code coverage detection with scriptable language unmodified source\\n</a></td>\\n<docs: 131=\"\">\\n<tr><td valign=\"top\">47</td>\\n<td valign=\"top\"><a href=\"/netacgi/nph-Parser?Sect1=PTO2&amp;Sect2=HITOFF&amp;u=%2Fnetahtml%2FPTO%2Fsearch-adv.htm&amp;r=47&amp;p=1&amp;f=G&amp;l=50&amp;d=PTXT&amp;S1=(python.CLTX.+or+python.DCTX.)&amp;OS=ACLM/python&amp;RS=ACLM/python\">8,954,553</a></td>\\n<td valign=\"baseline\"><img alt=\"Full-Text\" border=\"0\" src=\"/netaicon/PTO/ftext.gif\"/></td>\\n<td valign=\"top\"><a href=\"/netacgi/nph-Parser?Sect1=PTO2&amp;Sect2=HITOFF&amp;u=%2Fnetahtml%2FPTO%2Fsearch-adv.htm&amp;r=47&amp;p=1&amp;f=G&amp;l=50&amp;d=PTXT&amp;S1=(python.CLTX.+or+python.DCTX.)&amp;OS=ACLM/python&amp;RS=ACLM/python\">System and method for developing, deploying, managing and monitoring a web\\n     application in a single environment\\n</a></td>\\n<docs: 131=\"\">\\n<tr><td valign=\"top\">48</td>\\n<td valign=\"top\"><a href=\"/netacgi/nph-Parser?Sect1=PTO2&amp;Sect2=HITOFF&amp;u=%2Fnetahtml%2FPTO%2Fsearch-adv.htm&amp;r=48&amp;p=1&amp;f=G&amp;l=50&amp;d=PTXT&amp;S1=(python.CLTX.+or+python.DCTX.)&amp;OS=ACLM/python&amp;RS=ACLM/python\">8,944,290</a></td>\\n<td valign=\"baseline\"><img alt=\"Full-Text\" border=\"0\" src=\"/netaicon/PTO/ftext.gif\"/></td>\\n<td valign=\"top\"><a href=\"/netacgi/nph-Parser?Sect1=PTO2&amp;Sect2=HITOFF&amp;u=%2Fnetahtml%2FPTO%2Fsearch-adv.htm&amp;r=48&amp;p=1&amp;f=G&amp;l=50&amp;d=PTXT&amp;S1=(python.CLTX.+or+python.DCTX.)&amp;OS=ACLM/python&amp;RS=ACLM/python\">Beverage dispensing system having a cold plate and recirculating pump\\n</a></td>\\n<docs: 131=\"\">\\n<tr><td valign=\"top\">49</td>\\n<td valign=\"top\"><a href=\"/netacgi/nph-Parser?Sect1=PTO2&amp;Sect2=HITOFF&amp;u=%2Fnetahtml%2FPTO%2Fsearch-adv.htm&amp;r=49&amp;p=1&amp;f=G&amp;l=50&amp;d=PTXT&amp;S1=(python.CLTX.+or+python.DCTX.)&amp;OS=ACLM/python&amp;RS=ACLM/python\">8,881,949</a></td>\\n<td valign=\"baseline\"><img alt=\"Full-Text\" border=\"0\" src=\"/netaicon/PTO/ftext.gif\"/></td>\\n<td valign=\"top\"><a href=\"/netacgi/nph-Parser?Sect1=PTO2&amp;Sect2=HITOFF&amp;u=%2Fnetahtml%2FPTO%2Fsearch-adv.htm&amp;r=49&amp;p=1&amp;f=G&amp;l=50&amp;d=PTXT&amp;S1=(python.CLTX.+or+python.DCTX.)&amp;OS=ACLM/python&amp;RS=ACLM/python\">Modular beverage dispenser having a build-in cold plate and carbonator\\n</a></td>\\n<docs: 131=\"\">\\n<tr><td valign=\"top\">50</td>\\n<td valign=\"top\"><a href=\"/netacgi/nph-Parser?Sect1=PTO2&amp;Sect2=HITOFF&amp;u=%2Fnetahtml%2FPTO%2Fsearch-adv.htm&amp;r=50&amp;p=1&amp;f=G&amp;l=50&amp;d=PTXT&amp;S1=(python.CLTX.+or+python.DCTX.)&amp;OS=ACLM/python&amp;RS=ACLM/python\">8,868,241</a></td>\\n<td valign=\"baseline\"><img alt=\"Full-Text\" border=\"0\" src=\"/netaicon/PTO/ftext.gif\"/></td>\\n<td valign=\"top\"><a href=\"/netacgi/nph-Parser?Sect1=PTO2&amp;Sect2=HITOFF&amp;u=%2Fnetahtml%2FPTO%2Fsearch-adv.htm&amp;r=50&amp;p=1&amp;f=G&amp;l=50&amp;d=PTXT&amp;S1=(python.CLTX.+or+python.DCTX.)&amp;OS=ACLM/python&amp;RS=ACLM/python\">Robot task commander with extensible programming environment\\n</a></td>\\n</tr></docs:></tr></docs:></tr></docs:></tr></docs:></tr></docs:></tr></docs:></tr></docs:></tr></docs:></tr></docs:></tr></docs:></tr></docs:></tr></docs:></tr></docs:></tr></docs:></tr></docs:></tr></docs:></tr></docs:></tr></docs:></tr></docs:></tr></docs:></tr></docs:></tr></docs:></tr></docs:></tr></docs:></tr></docs:></tr></docs:></tr></docs:></tr></docs:></tr></docs:></tr></docs:></tr></docs:></tr></docs:></tr></docs:></tr></docs:></tr></docs:></tr></docs:></tr></docs:></tr></docs:></tr></docs:></tr></docs:></tr></docs:></tr></docs:></tr></docs:></tr></docs:></tr></docs:></tr></docs:></tr></docs:></tr></docs:></tr></docs:></tr></table><hr/><br/>\\n<center>\\n<table>\\n<tr><td><a href=\"/netacgi/nph-Parser?Sect1=PTO2&amp;Sect2=HITOFF&amp;u=%2Fnetahtml%2FPTO%2Fsearch-adv.htm&amp;r=0&amp;p=2&amp;f=S&amp;l=50&amp;d=PTXT&amp;S1=(python.CLTX.+or+python.DCTX.)&amp;Page=Next&amp;OS=ACLM/python&amp;RS=ACLM/python\"><img align=\"MIDDLE\" alt=\"[NEXT_LIST]\" border=\"0\" src=\"/netaicon/PTO/nextlist.gif\"/></a>\\n<a name=\"bottom\"><a href=\"#top\"><img align=\"middle\" alt=\"[Top]\" border=\"0\" src=\"/netaicon/PTO/top.gif\"/></a>\\n<a href=\"http://ebiz1.uspto.gov/vision-service/ShoppingCart_P/ShowShoppingCart?backUrl1=http%3A//patft.uspto.gov/netacgi/nph-Parser?Sect1%3DPTO2%26Sect2%3DHITOFF%26u%3D%252Fnetahtml%252FPTO%252Fsearch-adv.htm%26r%3D0%26p%3D1%26f%3DS%26l%3D50%26Query%3DACLM%252Fpython%252B%26d%3DPTXT&amp;backLabel1=Back%20to%20Document%3A%20ACLM/python\"><img align=\"middle\" alt=\"[View Shopping Cart]\" border=\"0\" src=\"/netaicon/PTO/cart.gif\"/></a>\\n</a></td></tr>\\n</table>\\n<a href=\"/netahtml/PTO/index.html\"><img alt=\"[Home]\" border=\"0\" src=\"/netaicon/PTO/home.gif\" valign=\"baseline\"/></a>\\n<a href=\"/netahtml/PTO/search-bool.html\"><img alt=\"[Boolean Search]\" border=\"0\" src=\"/netaicon/PTO/boolean.gif\" valign=\"baseline\"/></a>\\n<a href=\"/netahtml/PTO/search-adv.htm\"><img alt=\"[Manual Search]\" border=\"0\" src=\"/netaicon/PTO/manual.gif\" valign=\"baseline\"/></a>\\n<a href=\"/netahtml/PTO/srchnum.htm\"><img alt=\"[Number Search]\" border=\"0\" src=\"/netaicon/PTO/number.gif\" valign=\"baseline\"/></a>\\n<a href=\"/netahtml/PTO/help/help.htm\"><img alt=\"[Help]\" border=\"0\" src=\"/netaicon/PTO/help.gif\" valign=\"baseline\"/></a>\\n</center>\\n</p></body></html>"
      ]
     },
     "execution_count": 6,
     "metadata": {},
     "output_type": "execute_result"
    }
   ],
   "source": [
    "soup"
   ]
  },
  {
   "cell_type": "code",
   "execution_count": 7,
   "metadata": {},
   "outputs": [
    {
     "name": "stdout",
     "output_type": "stream",
     "text": [
      "\n",
      "\n"
     ]
    }
   ],
   "source": [
    "s = soup.text\n",
    "\n",
    "def find_between( s, first, last ):\n",
    "    try:\n",
    "        start = s.index( first ) + len( first )\n",
    "        end = s.index( last, start )\n",
    "        return s[start:end]\n",
    "    except ValueError:\n",
    "        return \"\"\n",
    "\n",
    "def find_between_r( s, first, last ):\n",
    "    try:\n",
    "        start = s.rindex( first ) + len( first )\n",
    "        end = s.rindex( last, start )\n",
    "        return s[start:end]\n",
    "    except ValueError:\n",
    "        return \"\"\n",
    "\n",
    "\n",
    "print find_between( s, \"What is claimed is:\", \"* * * * *\" )\n",
    "print find_between_r( s, \"123\", \"abc\" )"
   ]
  },
  {
   "cell_type": "code",
   "execution_count": 8,
   "metadata": {},
   "outputs": [
    {
     "name": "stdout",
     "output_type": "stream",
     "text": [
      "http://patft.uspto.gov/netacgi/nph-Parser?Sect1=PTO2&Sect2=HITOFF&u=%2Fnetahtml%2FPTO%2Fsearch-adv.htm&r=0&p=2&f=S&l=50&d=PTXT&S1=(python.CLTX.+or+python.DCTX.)&Page=Next&OS=ACLM/python&RS=ACLM/python\n",
      "http://patft.uspto.gov/netacgi/nph-Parser?Sect1=PTO2&Sect2=HITOFF&u=%2Fnetahtml%2FPTO%2Fsearch-adv.htm&r=1&p=1&f=G&l=50&d=PTXT&S1=(python.CLTX.+or+python.DCTX.)&OS=ACLM/python&RS=ACLM/python\n",
      "http://patft.uspto.gov/netacgi/nph-Parser?Sect1=PTO2&Sect2=HITOFF&u=%2Fnetahtml%2FPTO%2Fsearch-adv.htm&r=1&p=1&f=G&l=50&d=PTXT&S1=(python.CLTX.+or+python.DCTX.)&OS=ACLM/python&RS=ACLM/python\n",
      "http://patft.uspto.gov/netacgi/nph-Parser?Sect1=PTO2&Sect2=HITOFF&u=%2Fnetahtml%2FPTO%2Fsearch-adv.htm&r=2&p=1&f=G&l=50&d=PTXT&S1=(python.CLTX.+or+python.DCTX.)&OS=ACLM/python&RS=ACLM/python\n",
      "http://patft.uspto.gov/netacgi/nph-Parser?Sect1=PTO2&Sect2=HITOFF&u=%2Fnetahtml%2FPTO%2Fsearch-adv.htm&r=2&p=1&f=G&l=50&d=PTXT&S1=(python.CLTX.+or+python.DCTX.)&OS=ACLM/python&RS=ACLM/python\n",
      "http://patft.uspto.gov/netacgi/nph-Parser?Sect1=PTO2&Sect2=HITOFF&u=%2Fnetahtml%2FPTO%2Fsearch-adv.htm&r=3&p=1&f=G&l=50&d=PTXT&S1=(python.CLTX.+or+python.DCTX.)&OS=ACLM/python&RS=ACLM/python\n",
      "http://patft.uspto.gov/netacgi/nph-Parser?Sect1=PTO2&Sect2=HITOFF&u=%2Fnetahtml%2FPTO%2Fsearch-adv.htm&r=3&p=1&f=G&l=50&d=PTXT&S1=(python.CLTX.+or+python.DCTX.)&OS=ACLM/python&RS=ACLM/python\n",
      "http://patft.uspto.gov/netacgi/nph-Parser?Sect1=PTO2&Sect2=HITOFF&u=%2Fnetahtml%2FPTO%2Fsearch-adv.htm&r=4&p=1&f=G&l=50&d=PTXT&S1=(python.CLTX.+or+python.DCTX.)&OS=ACLM/python&RS=ACLM/python\n",
      "http://patft.uspto.gov/netacgi/nph-Parser?Sect1=PTO2&Sect2=HITOFF&u=%2Fnetahtml%2FPTO%2Fsearch-adv.htm&r=4&p=1&f=G&l=50&d=PTXT&S1=(python.CLTX.+or+python.DCTX.)&OS=ACLM/python&RS=ACLM/python\n",
      "http://patft.uspto.gov/netacgi/nph-Parser?Sect1=PTO2&Sect2=HITOFF&u=%2Fnetahtml%2FPTO%2Fsearch-adv.htm&r=5&p=1&f=G&l=50&d=PTXT&S1=(python.CLTX.+or+python.DCTX.)&OS=ACLM/python&RS=ACLM/python\n",
      "http://patft.uspto.gov/netacgi/nph-Parser?Sect1=PTO2&Sect2=HITOFF&u=%2Fnetahtml%2FPTO%2Fsearch-adv.htm&r=5&p=1&f=G&l=50&d=PTXT&S1=(python.CLTX.+or+python.DCTX.)&OS=ACLM/python&RS=ACLM/python\n",
      "http://patft.uspto.gov/netacgi/nph-Parser?Sect1=PTO2&Sect2=HITOFF&u=%2Fnetahtml%2FPTO%2Fsearch-adv.htm&r=6&p=1&f=G&l=50&d=PTXT&S1=(python.CLTX.+or+python.DCTX.)&OS=ACLM/python&RS=ACLM/python\n",
      "http://patft.uspto.gov/netacgi/nph-Parser?Sect1=PTO2&Sect2=HITOFF&u=%2Fnetahtml%2FPTO%2Fsearch-adv.htm&r=6&p=1&f=G&l=50&d=PTXT&S1=(python.CLTX.+or+python.DCTX.)&OS=ACLM/python&RS=ACLM/python\n",
      "http://patft.uspto.gov/netacgi/nph-Parser?Sect1=PTO2&Sect2=HITOFF&u=%2Fnetahtml%2FPTO%2Fsearch-adv.htm&r=7&p=1&f=G&l=50&d=PTXT&S1=(python.CLTX.+or+python.DCTX.)&OS=ACLM/python&RS=ACLM/python\n",
      "http://patft.uspto.gov/netacgi/nph-Parser?Sect1=PTO2&Sect2=HITOFF&u=%2Fnetahtml%2FPTO%2Fsearch-adv.htm&r=7&p=1&f=G&l=50&d=PTXT&S1=(python.CLTX.+or+python.DCTX.)&OS=ACLM/python&RS=ACLM/python\n",
      "http://patft.uspto.gov/netacgi/nph-Parser?Sect1=PTO2&Sect2=HITOFF&u=%2Fnetahtml%2FPTO%2Fsearch-adv.htm&r=8&p=1&f=G&l=50&d=PTXT&S1=(python.CLTX.+or+python.DCTX.)&OS=ACLM/python&RS=ACLM/python\n",
      "http://patft.uspto.gov/netacgi/nph-Parser?Sect1=PTO2&Sect2=HITOFF&u=%2Fnetahtml%2FPTO%2Fsearch-adv.htm&r=8&p=1&f=G&l=50&d=PTXT&S1=(python.CLTX.+or+python.DCTX.)&OS=ACLM/python&RS=ACLM/python\n",
      "http://patft.uspto.gov/netacgi/nph-Parser?Sect1=PTO2&Sect2=HITOFF&u=%2Fnetahtml%2FPTO%2Fsearch-adv.htm&r=9&p=1&f=G&l=50&d=PTXT&S1=(python.CLTX.+or+python.DCTX.)&OS=ACLM/python&RS=ACLM/python\n",
      "http://patft.uspto.gov/netacgi/nph-Parser?Sect1=PTO2&Sect2=HITOFF&u=%2Fnetahtml%2FPTO%2Fsearch-adv.htm&r=9&p=1&f=G&l=50&d=PTXT&S1=(python.CLTX.+or+python.DCTX.)&OS=ACLM/python&RS=ACLM/python\n",
      "http://patft.uspto.gov/netacgi/nph-Parser?Sect1=PTO2&Sect2=HITOFF&u=%2Fnetahtml%2FPTO%2Fsearch-adv.htm&r=10&p=1&f=G&l=50&d=PTXT&S1=(python.CLTX.+or+python.DCTX.)&OS=ACLM/python&RS=ACLM/python\n",
      "http://patft.uspto.gov/netacgi/nph-Parser?Sect1=PTO2&Sect2=HITOFF&u=%2Fnetahtml%2FPTO%2Fsearch-adv.htm&r=10&p=1&f=G&l=50&d=PTXT&S1=(python.CLTX.+or+python.DCTX.)&OS=ACLM/python&RS=ACLM/python\n",
      "http://patft.uspto.gov/netacgi/nph-Parser?Sect1=PTO2&Sect2=HITOFF&u=%2Fnetahtml%2FPTO%2Fsearch-adv.htm&r=11&p=1&f=G&l=50&d=PTXT&S1=(python.CLTX.+or+python.DCTX.)&OS=ACLM/python&RS=ACLM/python\n",
      "http://patft.uspto.gov/netacgi/nph-Parser?Sect1=PTO2&Sect2=HITOFF&u=%2Fnetahtml%2FPTO%2Fsearch-adv.htm&r=11&p=1&f=G&l=50&d=PTXT&S1=(python.CLTX.+or+python.DCTX.)&OS=ACLM/python&RS=ACLM/python\n",
      "http://patft.uspto.gov/netacgi/nph-Parser?Sect1=PTO2&Sect2=HITOFF&u=%2Fnetahtml%2FPTO%2Fsearch-adv.htm&r=12&p=1&f=G&l=50&d=PTXT&S1=(python.CLTX.+or+python.DCTX.)&OS=ACLM/python&RS=ACLM/python\n",
      "http://patft.uspto.gov/netacgi/nph-Parser?Sect1=PTO2&Sect2=HITOFF&u=%2Fnetahtml%2FPTO%2Fsearch-adv.htm&r=12&p=1&f=G&l=50&d=PTXT&S1=(python.CLTX.+or+python.DCTX.)&OS=ACLM/python&RS=ACLM/python\n",
      "http://patft.uspto.gov/netacgi/nph-Parser?Sect1=PTO2&Sect2=HITOFF&u=%2Fnetahtml%2FPTO%2Fsearch-adv.htm&r=13&p=1&f=G&l=50&d=PTXT&S1=(python.CLTX.+or+python.DCTX.)&OS=ACLM/python&RS=ACLM/python\n",
      "http://patft.uspto.gov/netacgi/nph-Parser?Sect1=PTO2&Sect2=HITOFF&u=%2Fnetahtml%2FPTO%2Fsearch-adv.htm&r=13&p=1&f=G&l=50&d=PTXT&S1=(python.CLTX.+or+python.DCTX.)&OS=ACLM/python&RS=ACLM/python\n",
      "http://patft.uspto.gov/netacgi/nph-Parser?Sect1=PTO2&Sect2=HITOFF&u=%2Fnetahtml%2FPTO%2Fsearch-adv.htm&r=14&p=1&f=G&l=50&d=PTXT&S1=(python.CLTX.+or+python.DCTX.)&OS=ACLM/python&RS=ACLM/python\n",
      "http://patft.uspto.gov/netacgi/nph-Parser?Sect1=PTO2&Sect2=HITOFF&u=%2Fnetahtml%2FPTO%2Fsearch-adv.htm&r=14&p=1&f=G&l=50&d=PTXT&S1=(python.CLTX.+or+python.DCTX.)&OS=ACLM/python&RS=ACLM/python\n",
      "http://patft.uspto.gov/netacgi/nph-Parser?Sect1=PTO2&Sect2=HITOFF&u=%2Fnetahtml%2FPTO%2Fsearch-adv.htm&r=15&p=1&f=G&l=50&d=PTXT&S1=(python.CLTX.+or+python.DCTX.)&OS=ACLM/python&RS=ACLM/python\n",
      "http://patft.uspto.gov/netacgi/nph-Parser?Sect1=PTO2&Sect2=HITOFF&u=%2Fnetahtml%2FPTO%2Fsearch-adv.htm&r=15&p=1&f=G&l=50&d=PTXT&S1=(python.CLTX.+or+python.DCTX.)&OS=ACLM/python&RS=ACLM/python\n",
      "http://patft.uspto.gov/netacgi/nph-Parser?Sect1=PTO2&Sect2=HITOFF&u=%2Fnetahtml%2FPTO%2Fsearch-adv.htm&r=16&p=1&f=G&l=50&d=PTXT&S1=(python.CLTX.+or+python.DCTX.)&OS=ACLM/python&RS=ACLM/python\n",
      "http://patft.uspto.gov/netacgi/nph-Parser?Sect1=PTO2&Sect2=HITOFF&u=%2Fnetahtml%2FPTO%2Fsearch-adv.htm&r=16&p=1&f=G&l=50&d=PTXT&S1=(python.CLTX.+or+python.DCTX.)&OS=ACLM/python&RS=ACLM/python\n",
      "http://patft.uspto.gov/netacgi/nph-Parser?Sect1=PTO2&Sect2=HITOFF&u=%2Fnetahtml%2FPTO%2Fsearch-adv.htm&r=17&p=1&f=G&l=50&d=PTXT&S1=(python.CLTX.+or+python.DCTX.)&OS=ACLM/python&RS=ACLM/python\n",
      "http://patft.uspto.gov/netacgi/nph-Parser?Sect1=PTO2&Sect2=HITOFF&u=%2Fnetahtml%2FPTO%2Fsearch-adv.htm&r=17&p=1&f=G&l=50&d=PTXT&S1=(python.CLTX.+or+python.DCTX.)&OS=ACLM/python&RS=ACLM/python\n",
      "http://patft.uspto.gov/netacgi/nph-Parser?Sect1=PTO2&Sect2=HITOFF&u=%2Fnetahtml%2FPTO%2Fsearch-adv.htm&r=18&p=1&f=G&l=50&d=PTXT&S1=(python.CLTX.+or+python.DCTX.)&OS=ACLM/python&RS=ACLM/python\n",
      "http://patft.uspto.gov/netacgi/nph-Parser?Sect1=PTO2&Sect2=HITOFF&u=%2Fnetahtml%2FPTO%2Fsearch-adv.htm&r=18&p=1&f=G&l=50&d=PTXT&S1=(python.CLTX.+or+python.DCTX.)&OS=ACLM/python&RS=ACLM/python\n",
      "http://patft.uspto.gov/netacgi/nph-Parser?Sect1=PTO2&Sect2=HITOFF&u=%2Fnetahtml%2FPTO%2Fsearch-adv.htm&r=19&p=1&f=G&l=50&d=PTXT&S1=(python.CLTX.+or+python.DCTX.)&OS=ACLM/python&RS=ACLM/python\n",
      "http://patft.uspto.gov/netacgi/nph-Parser?Sect1=PTO2&Sect2=HITOFF&u=%2Fnetahtml%2FPTO%2Fsearch-adv.htm&r=19&p=1&f=G&l=50&d=PTXT&S1=(python.CLTX.+or+python.DCTX.)&OS=ACLM/python&RS=ACLM/python\n",
      "http://patft.uspto.gov/netacgi/nph-Parser?Sect1=PTO2&Sect2=HITOFF&u=%2Fnetahtml%2FPTO%2Fsearch-adv.htm&r=20&p=1&f=G&l=50&d=PTXT&S1=(python.CLTX.+or+python.DCTX.)&OS=ACLM/python&RS=ACLM/python\n",
      "http://patft.uspto.gov/netacgi/nph-Parser?Sect1=PTO2&Sect2=HITOFF&u=%2Fnetahtml%2FPTO%2Fsearch-adv.htm&r=20&p=1&f=G&l=50&d=PTXT&S1=(python.CLTX.+or+python.DCTX.)&OS=ACLM/python&RS=ACLM/python\n",
      "http://patft.uspto.gov/netacgi/nph-Parser?Sect1=PTO2&Sect2=HITOFF&u=%2Fnetahtml%2FPTO%2Fsearch-adv.htm&r=21&p=1&f=G&l=50&d=PTXT&S1=(python.CLTX.+or+python.DCTX.)&OS=ACLM/python&RS=ACLM/python\n",
      "http://patft.uspto.gov/netacgi/nph-Parser?Sect1=PTO2&Sect2=HITOFF&u=%2Fnetahtml%2FPTO%2Fsearch-adv.htm&r=21&p=1&f=G&l=50&d=PTXT&S1=(python.CLTX.+or+python.DCTX.)&OS=ACLM/python&RS=ACLM/python\n",
      "http://patft.uspto.gov/netacgi/nph-Parser?Sect1=PTO2&Sect2=HITOFF&u=%2Fnetahtml%2FPTO%2Fsearch-adv.htm&r=22&p=1&f=G&l=50&d=PTXT&S1=(python.CLTX.+or+python.DCTX.)&OS=ACLM/python&RS=ACLM/python\n",
      "http://patft.uspto.gov/netacgi/nph-Parser?Sect1=PTO2&Sect2=HITOFF&u=%2Fnetahtml%2FPTO%2Fsearch-adv.htm&r=22&p=1&f=G&l=50&d=PTXT&S1=(python.CLTX.+or+python.DCTX.)&OS=ACLM/python&RS=ACLM/python\n",
      "http://patft.uspto.gov/netacgi/nph-Parser?Sect1=PTO2&Sect2=HITOFF&u=%2Fnetahtml%2FPTO%2Fsearch-adv.htm&r=23&p=1&f=G&l=50&d=PTXT&S1=(python.CLTX.+or+python.DCTX.)&OS=ACLM/python&RS=ACLM/python\n",
      "http://patft.uspto.gov/netacgi/nph-Parser?Sect1=PTO2&Sect2=HITOFF&u=%2Fnetahtml%2FPTO%2Fsearch-adv.htm&r=23&p=1&f=G&l=50&d=PTXT&S1=(python.CLTX.+or+python.DCTX.)&OS=ACLM/python&RS=ACLM/python\n",
      "http://patft.uspto.gov/netacgi/nph-Parser?Sect1=PTO2&Sect2=HITOFF&u=%2Fnetahtml%2FPTO%2Fsearch-adv.htm&r=24&p=1&f=G&l=50&d=PTXT&S1=(python.CLTX.+or+python.DCTX.)&OS=ACLM/python&RS=ACLM/python\n",
      "http://patft.uspto.gov/netacgi/nph-Parser?Sect1=PTO2&Sect2=HITOFF&u=%2Fnetahtml%2FPTO%2Fsearch-adv.htm&r=24&p=1&f=G&l=50&d=PTXT&S1=(python.CLTX.+or+python.DCTX.)&OS=ACLM/python&RS=ACLM/python\n",
      "http://patft.uspto.gov/netacgi/nph-Parser?Sect1=PTO2&Sect2=HITOFF&u=%2Fnetahtml%2FPTO%2Fsearch-adv.htm&r=25&p=1&f=G&l=50&d=PTXT&S1=(python.CLTX.+or+python.DCTX.)&OS=ACLM/python&RS=ACLM/python\n",
      "http://patft.uspto.gov/netacgi/nph-Parser?Sect1=PTO2&Sect2=HITOFF&u=%2Fnetahtml%2FPTO%2Fsearch-adv.htm&r=25&p=1&f=G&l=50&d=PTXT&S1=(python.CLTX.+or+python.DCTX.)&OS=ACLM/python&RS=ACLM/python\n",
      "http://patft.uspto.gov/netacgi/nph-Parser?Sect1=PTO2&Sect2=HITOFF&u=%2Fnetahtml%2FPTO%2Fsearch-adv.htm&r=26&p=1&f=G&l=50&d=PTXT&S1=(python.CLTX.+or+python.DCTX.)&OS=ACLM/python&RS=ACLM/python\n",
      "http://patft.uspto.gov/netacgi/nph-Parser?Sect1=PTO2&Sect2=HITOFF&u=%2Fnetahtml%2FPTO%2Fsearch-adv.htm&r=26&p=1&f=G&l=50&d=PTXT&S1=(python.CLTX.+or+python.DCTX.)&OS=ACLM/python&RS=ACLM/python\n",
      "http://patft.uspto.gov/netacgi/nph-Parser?Sect1=PTO2&Sect2=HITOFF&u=%2Fnetahtml%2FPTO%2Fsearch-adv.htm&r=27&p=1&f=G&l=50&d=PTXT&S1=(python.CLTX.+or+python.DCTX.)&OS=ACLM/python&RS=ACLM/python\n",
      "http://patft.uspto.gov/netacgi/nph-Parser?Sect1=PTO2&Sect2=HITOFF&u=%2Fnetahtml%2FPTO%2Fsearch-adv.htm&r=27&p=1&f=G&l=50&d=PTXT&S1=(python.CLTX.+or+python.DCTX.)&OS=ACLM/python&RS=ACLM/python\n",
      "http://patft.uspto.gov/netacgi/nph-Parser?Sect1=PTO2&Sect2=HITOFF&u=%2Fnetahtml%2FPTO%2Fsearch-adv.htm&r=28&p=1&f=G&l=50&d=PTXT&S1=(python.CLTX.+or+python.DCTX.)&OS=ACLM/python&RS=ACLM/python\n",
      "http://patft.uspto.gov/netacgi/nph-Parser?Sect1=PTO2&Sect2=HITOFF&u=%2Fnetahtml%2FPTO%2Fsearch-adv.htm&r=28&p=1&f=G&l=50&d=PTXT&S1=(python.CLTX.+or+python.DCTX.)&OS=ACLM/python&RS=ACLM/python\n",
      "http://patft.uspto.gov/netacgi/nph-Parser?Sect1=PTO2&Sect2=HITOFF&u=%2Fnetahtml%2FPTO%2Fsearch-adv.htm&r=29&p=1&f=G&l=50&d=PTXT&S1=(python.CLTX.+or+python.DCTX.)&OS=ACLM/python&RS=ACLM/python\n",
      "http://patft.uspto.gov/netacgi/nph-Parser?Sect1=PTO2&Sect2=HITOFF&u=%2Fnetahtml%2FPTO%2Fsearch-adv.htm&r=29&p=1&f=G&l=50&d=PTXT&S1=(python.CLTX.+or+python.DCTX.)&OS=ACLM/python&RS=ACLM/python\n",
      "http://patft.uspto.gov/netacgi/nph-Parser?Sect1=PTO2&Sect2=HITOFF&u=%2Fnetahtml%2FPTO%2Fsearch-adv.htm&r=30&p=1&f=G&l=50&d=PTXT&S1=(python.CLTX.+or+python.DCTX.)&OS=ACLM/python&RS=ACLM/python\n",
      "http://patft.uspto.gov/netacgi/nph-Parser?Sect1=PTO2&Sect2=HITOFF&u=%2Fnetahtml%2FPTO%2Fsearch-adv.htm&r=30&p=1&f=G&l=50&d=PTXT&S1=(python.CLTX.+or+python.DCTX.)&OS=ACLM/python&RS=ACLM/python\n",
      "http://patft.uspto.gov/netacgi/nph-Parser?Sect1=PTO2&Sect2=HITOFF&u=%2Fnetahtml%2FPTO%2Fsearch-adv.htm&r=31&p=1&f=G&l=50&d=PTXT&S1=(python.CLTX.+or+python.DCTX.)&OS=ACLM/python&RS=ACLM/python\n",
      "http://patft.uspto.gov/netacgi/nph-Parser?Sect1=PTO2&Sect2=HITOFF&u=%2Fnetahtml%2FPTO%2Fsearch-adv.htm&r=31&p=1&f=G&l=50&d=PTXT&S1=(python.CLTX.+or+python.DCTX.)&OS=ACLM/python&RS=ACLM/python\n",
      "http://patft.uspto.gov/netacgi/nph-Parser?Sect1=PTO2&Sect2=HITOFF&u=%2Fnetahtml%2FPTO%2Fsearch-adv.htm&r=32&p=1&f=G&l=50&d=PTXT&S1=(python.CLTX.+or+python.DCTX.)&OS=ACLM/python&RS=ACLM/python\n",
      "http://patft.uspto.gov/netacgi/nph-Parser?Sect1=PTO2&Sect2=HITOFF&u=%2Fnetahtml%2FPTO%2Fsearch-adv.htm&r=32&p=1&f=G&l=50&d=PTXT&S1=(python.CLTX.+or+python.DCTX.)&OS=ACLM/python&RS=ACLM/python\n",
      "http://patft.uspto.gov/netacgi/nph-Parser?Sect1=PTO2&Sect2=HITOFF&u=%2Fnetahtml%2FPTO%2Fsearch-adv.htm&r=33&p=1&f=G&l=50&d=PTXT&S1=(python.CLTX.+or+python.DCTX.)&OS=ACLM/python&RS=ACLM/python\n",
      "http://patft.uspto.gov/netacgi/nph-Parser?Sect1=PTO2&Sect2=HITOFF&u=%2Fnetahtml%2FPTO%2Fsearch-adv.htm&r=33&p=1&f=G&l=50&d=PTXT&S1=(python.CLTX.+or+python.DCTX.)&OS=ACLM/python&RS=ACLM/python\n",
      "http://patft.uspto.gov/netacgi/nph-Parser?Sect1=PTO2&Sect2=HITOFF&u=%2Fnetahtml%2FPTO%2Fsearch-adv.htm&r=34&p=1&f=G&l=50&d=PTXT&S1=(python.CLTX.+or+python.DCTX.)&OS=ACLM/python&RS=ACLM/python\n",
      "http://patft.uspto.gov/netacgi/nph-Parser?Sect1=PTO2&Sect2=HITOFF&u=%2Fnetahtml%2FPTO%2Fsearch-adv.htm&r=34&p=1&f=G&l=50&d=PTXT&S1=(python.CLTX.+or+python.DCTX.)&OS=ACLM/python&RS=ACLM/python\n",
      "http://patft.uspto.gov/netacgi/nph-Parser?Sect1=PTO2&Sect2=HITOFF&u=%2Fnetahtml%2FPTO%2Fsearch-adv.htm&r=35&p=1&f=G&l=50&d=PTXT&S1=(python.CLTX.+or+python.DCTX.)&OS=ACLM/python&RS=ACLM/python\n",
      "http://patft.uspto.gov/netacgi/nph-Parser?Sect1=PTO2&Sect2=HITOFF&u=%2Fnetahtml%2FPTO%2Fsearch-adv.htm&r=35&p=1&f=G&l=50&d=PTXT&S1=(python.CLTX.+or+python.DCTX.)&OS=ACLM/python&RS=ACLM/python\n",
      "http://patft.uspto.gov/netacgi/nph-Parser?Sect1=PTO2&Sect2=HITOFF&u=%2Fnetahtml%2FPTO%2Fsearch-adv.htm&r=36&p=1&f=G&l=50&d=PTXT&S1=(python.CLTX.+or+python.DCTX.)&OS=ACLM/python&RS=ACLM/python\n",
      "http://patft.uspto.gov/netacgi/nph-Parser?Sect1=PTO2&Sect2=HITOFF&u=%2Fnetahtml%2FPTO%2Fsearch-adv.htm&r=36&p=1&f=G&l=50&d=PTXT&S1=(python.CLTX.+or+python.DCTX.)&OS=ACLM/python&RS=ACLM/python\n",
      "http://patft.uspto.gov/netacgi/nph-Parser?Sect1=PTO2&Sect2=HITOFF&u=%2Fnetahtml%2FPTO%2Fsearch-adv.htm&r=37&p=1&f=G&l=50&d=PTXT&S1=(python.CLTX.+or+python.DCTX.)&OS=ACLM/python&RS=ACLM/python\n",
      "http://patft.uspto.gov/netacgi/nph-Parser?Sect1=PTO2&Sect2=HITOFF&u=%2Fnetahtml%2FPTO%2Fsearch-adv.htm&r=37&p=1&f=G&l=50&d=PTXT&S1=(python.CLTX.+or+python.DCTX.)&OS=ACLM/python&RS=ACLM/python\n",
      "http://patft.uspto.gov/netacgi/nph-Parser?Sect1=PTO2&Sect2=HITOFF&u=%2Fnetahtml%2FPTO%2Fsearch-adv.htm&r=38&p=1&f=G&l=50&d=PTXT&S1=(python.CLTX.+or+python.DCTX.)&OS=ACLM/python&RS=ACLM/python\n",
      "http://patft.uspto.gov/netacgi/nph-Parser?Sect1=PTO2&Sect2=HITOFF&u=%2Fnetahtml%2FPTO%2Fsearch-adv.htm&r=38&p=1&f=G&l=50&d=PTXT&S1=(python.CLTX.+or+python.DCTX.)&OS=ACLM/python&RS=ACLM/python\n",
      "http://patft.uspto.gov/netacgi/nph-Parser?Sect1=PTO2&Sect2=HITOFF&u=%2Fnetahtml%2FPTO%2Fsearch-adv.htm&r=39&p=1&f=G&l=50&d=PTXT&S1=(python.CLTX.+or+python.DCTX.)&OS=ACLM/python&RS=ACLM/python\n",
      "http://patft.uspto.gov/netacgi/nph-Parser?Sect1=PTO2&Sect2=HITOFF&u=%2Fnetahtml%2FPTO%2Fsearch-adv.htm&r=39&p=1&f=G&l=50&d=PTXT&S1=(python.CLTX.+or+python.DCTX.)&OS=ACLM/python&RS=ACLM/python\n",
      "http://patft.uspto.gov/netacgi/nph-Parser?Sect1=PTO2&Sect2=HITOFF&u=%2Fnetahtml%2FPTO%2Fsearch-adv.htm&r=40&p=1&f=G&l=50&d=PTXT&S1=(python.CLTX.+or+python.DCTX.)&OS=ACLM/python&RS=ACLM/python\n",
      "http://patft.uspto.gov/netacgi/nph-Parser?Sect1=PTO2&Sect2=HITOFF&u=%2Fnetahtml%2FPTO%2Fsearch-adv.htm&r=40&p=1&f=G&l=50&d=PTXT&S1=(python.CLTX.+or+python.DCTX.)&OS=ACLM/python&RS=ACLM/python\n",
      "http://patft.uspto.gov/netacgi/nph-Parser?Sect1=PTO2&Sect2=HITOFF&u=%2Fnetahtml%2FPTO%2Fsearch-adv.htm&r=41&p=1&f=G&l=50&d=PTXT&S1=(python.CLTX.+or+python.DCTX.)&OS=ACLM/python&RS=ACLM/python\n",
      "http://patft.uspto.gov/netacgi/nph-Parser?Sect1=PTO2&Sect2=HITOFF&u=%2Fnetahtml%2FPTO%2Fsearch-adv.htm&r=41&p=1&f=G&l=50&d=PTXT&S1=(python.CLTX.+or+python.DCTX.)&OS=ACLM/python&RS=ACLM/python\n",
      "http://patft.uspto.gov/netacgi/nph-Parser?Sect1=PTO2&Sect2=HITOFF&u=%2Fnetahtml%2FPTO%2Fsearch-adv.htm&r=42&p=1&f=G&l=50&d=PTXT&S1=(python.CLTX.+or+python.DCTX.)&OS=ACLM/python&RS=ACLM/python\n",
      "http://patft.uspto.gov/netacgi/nph-Parser?Sect1=PTO2&Sect2=HITOFF&u=%2Fnetahtml%2FPTO%2Fsearch-adv.htm&r=42&p=1&f=G&l=50&d=PTXT&S1=(python.CLTX.+or+python.DCTX.)&OS=ACLM/python&RS=ACLM/python\n",
      "http://patft.uspto.gov/netacgi/nph-Parser?Sect1=PTO2&Sect2=HITOFF&u=%2Fnetahtml%2FPTO%2Fsearch-adv.htm&r=43&p=1&f=G&l=50&d=PTXT&S1=(python.CLTX.+or+python.DCTX.)&OS=ACLM/python&RS=ACLM/python\n",
      "http://patft.uspto.gov/netacgi/nph-Parser?Sect1=PTO2&Sect2=HITOFF&u=%2Fnetahtml%2FPTO%2Fsearch-adv.htm&r=43&p=1&f=G&l=50&d=PTXT&S1=(python.CLTX.+or+python.DCTX.)&OS=ACLM/python&RS=ACLM/python\n",
      "http://patft.uspto.gov/netacgi/nph-Parser?Sect1=PTO2&Sect2=HITOFF&u=%2Fnetahtml%2FPTO%2Fsearch-adv.htm&r=44&p=1&f=G&l=50&d=PTXT&S1=(python.CLTX.+or+python.DCTX.)&OS=ACLM/python&RS=ACLM/python\n",
      "http://patft.uspto.gov/netacgi/nph-Parser?Sect1=PTO2&Sect2=HITOFF&u=%2Fnetahtml%2FPTO%2Fsearch-adv.htm&r=44&p=1&f=G&l=50&d=PTXT&S1=(python.CLTX.+or+python.DCTX.)&OS=ACLM/python&RS=ACLM/python\n",
      "http://patft.uspto.gov/netacgi/nph-Parser?Sect1=PTO2&Sect2=HITOFF&u=%2Fnetahtml%2FPTO%2Fsearch-adv.htm&r=45&p=1&f=G&l=50&d=PTXT&S1=(python.CLTX.+or+python.DCTX.)&OS=ACLM/python&RS=ACLM/python\n",
      "http://patft.uspto.gov/netacgi/nph-Parser?Sect1=PTO2&Sect2=HITOFF&u=%2Fnetahtml%2FPTO%2Fsearch-adv.htm&r=45&p=1&f=G&l=50&d=PTXT&S1=(python.CLTX.+or+python.DCTX.)&OS=ACLM/python&RS=ACLM/python\n",
      "http://patft.uspto.gov/netacgi/nph-Parser?Sect1=PTO2&Sect2=HITOFF&u=%2Fnetahtml%2FPTO%2Fsearch-adv.htm&r=46&p=1&f=G&l=50&d=PTXT&S1=(python.CLTX.+or+python.DCTX.)&OS=ACLM/python&RS=ACLM/python\n",
      "http://patft.uspto.gov/netacgi/nph-Parser?Sect1=PTO2&Sect2=HITOFF&u=%2Fnetahtml%2FPTO%2Fsearch-adv.htm&r=46&p=1&f=G&l=50&d=PTXT&S1=(python.CLTX.+or+python.DCTX.)&OS=ACLM/python&RS=ACLM/python\n",
      "http://patft.uspto.gov/netacgi/nph-Parser?Sect1=PTO2&Sect2=HITOFF&u=%2Fnetahtml%2FPTO%2Fsearch-adv.htm&r=47&p=1&f=G&l=50&d=PTXT&S1=(python.CLTX.+or+python.DCTX.)&OS=ACLM/python&RS=ACLM/python\n",
      "http://patft.uspto.gov/netacgi/nph-Parser?Sect1=PTO2&Sect2=HITOFF&u=%2Fnetahtml%2FPTO%2Fsearch-adv.htm&r=47&p=1&f=G&l=50&d=PTXT&S1=(python.CLTX.+or+python.DCTX.)&OS=ACLM/python&RS=ACLM/python\n",
      "http://patft.uspto.gov/netacgi/nph-Parser?Sect1=PTO2&Sect2=HITOFF&u=%2Fnetahtml%2FPTO%2Fsearch-adv.htm&r=48&p=1&f=G&l=50&d=PTXT&S1=(python.CLTX.+or+python.DCTX.)&OS=ACLM/python&RS=ACLM/python\n",
      "http://patft.uspto.gov/netacgi/nph-Parser?Sect1=PTO2&Sect2=HITOFF&u=%2Fnetahtml%2FPTO%2Fsearch-adv.htm&r=48&p=1&f=G&l=50&d=PTXT&S1=(python.CLTX.+or+python.DCTX.)&OS=ACLM/python&RS=ACLM/python\n",
      "http://patft.uspto.gov/netacgi/nph-Parser?Sect1=PTO2&Sect2=HITOFF&u=%2Fnetahtml%2FPTO%2Fsearch-adv.htm&r=49&p=1&f=G&l=50&d=PTXT&S1=(python.CLTX.+or+python.DCTX.)&OS=ACLM/python&RS=ACLM/python\n",
      "http://patft.uspto.gov/netacgi/nph-Parser?Sect1=PTO2&Sect2=HITOFF&u=%2Fnetahtml%2FPTO%2Fsearch-adv.htm&r=49&p=1&f=G&l=50&d=PTXT&S1=(python.CLTX.+or+python.DCTX.)&OS=ACLM/python&RS=ACLM/python\n",
      "http://patft.uspto.gov/netacgi/nph-Parser?Sect1=PTO2&Sect2=HITOFF&u=%2Fnetahtml%2FPTO%2Fsearch-adv.htm&r=50&p=1&f=G&l=50&d=PTXT&S1=(python.CLTX.+or+python.DCTX.)&OS=ACLM/python&RS=ACLM/python\n",
      "http://patft.uspto.gov/netacgi/nph-Parser?Sect1=PTO2&Sect2=HITOFF&u=%2Fnetahtml%2FPTO%2Fsearch-adv.htm&r=50&p=1&f=G&l=50&d=PTXT&S1=(python.CLTX.+or+python.DCTX.)&OS=ACLM/python&RS=ACLM/python\n",
      "http://patft.uspto.gov/netacgi/nph-Parser?Sect1=PTO2&Sect2=HITOFF&u=%2Fnetahtml%2FPTO%2Fsearch-adv.htm&r=0&p=2&f=S&l=50&d=PTXT&S1=(python.CLTX.+or+python.DCTX.)&Page=Next&OS=ACLM/python&RS=ACLM/python\n"
     ]
    }
   ],
   "source": [
    "for link in soup.find_all('a', href=True):\n",
    "    #print 'http://patft.uspto.gov'+link['href']\n",
    "    x =  link['href']\n",
    "    #!/usr/bin/python\n",
    "    if x[:19]=='/netacgi/nph-Parser':\n",
    "        print 'http://patft.uspto.gov'+x \n",
    "\n",
    "   \n",
    " "
   ]
  },
  {
   "cell_type": "code",
   "execution_count": 9,
   "metadata": {},
   "outputs": [
    {
     "name": "stdout",
     "output_type": "stream",
     "text": [
      "Imaging subsurface properties using a parallel processing database system\n",
      "\n",
      " Methods, systems, and apparatus, including computer programs encoded on\n",
      "     computer storage media, for processing database system processes seismic\n",
      "     wave data using database queries. The seismic wave data is obtained from\n",
      "     sensors of a reflection seismology survey. The seismic wave data is\n",
      "     distributed among nodes of the parallel processing database system.\n",
      "     Computations of processing the seismic wave data are performed using\n",
      "     relational database queries that execute on the nodes in parallel. These\n",
      "     computations performed by the queries include generating a starting Earth\n",
      "     model of an area surveyed, and performing iterations of solving a forward\n",
      "     problem of generating seismic wave patterns from the starting Earth\n",
      "     model, performing local optimization that modifies the starting Earth\n",
      "     model, and providing the modified Earth model as input to the forward\n",
      "     problem in a next iteration.\n",
      "\n",
      "\n"
     ]
    }
   ],
   "source": [
    "\n",
    "\n",
    "import urllib2\n",
    "from bs4 import BeautifulSoup\n",
    "\n",
    "quote_page2 = 'http://patft.uspto.gov/netacgi/nph-Parser?Sect1=PTO2&Sect2=HITOFF&u=%2Fnetahtml%2FPTO%2Fsearch-adv.htm&r=1&p=1&f=G&l=50&d=PTXT&S1=(python.CLTX.+or+python.DCTX.)&OS=ACLM/python&RS=ACLM/python/'\n",
    "page2 = urllib2.urlopen(quote_page2)\n",
    "\n",
    "soup = BeautifulSoup(page2, 'html.parser')\n",
    "\n",
    "#Paragraph for abstract https://chrisalbon.com/python/beautiful_soup_html_basics.html\n",
    "print soup.find('font', {'size':'+1'}).text\n",
    "print soup.p.text\n",
    "print find_between( s, \"What is claimed is:\", \"* * * * *\" )\n",
    "#print soup\n",
    "\n",
    "\n",
    "\n"
   ]
  },
  {
   "cell_type": "code",
   "execution_count": 10,
   "metadata": {},
   "outputs": [
    {
     "name": "stdout",
     "output_type": "stream",
     "text": [
      "Values inside the function:  [10, 20, 30, [1, 2, 3, 4]]\n",
      "Values outside the function:  [10, 20, 30, [1, 2, 3, 4]]\n"
     ]
    }
   ],
   "source": [
    "def changeme( mylist ):\n",
    "   \"This changes a passed list into this function\"\n",
    "   mylist.append([1,2,3,4]);\n",
    "   print \"Values inside the function: \", mylist\n",
    "   return\n",
    "\n",
    "# Now you can call changeme function\n",
    "mylist = [10,20,30];\n",
    "changeme( mylist );\n",
    "print \"Values outside the function: \", mylist"
   ]
  },
  {
   "cell_type": "code",
   "execution_count": null,
   "metadata": {
    "collapsed": true
   },
   "outputs": [],
   "source": []
  },
  {
   "cell_type": "code",
   "execution_count": null,
   "metadata": {
    "collapsed": true
   },
   "outputs": [],
   "source": []
  },
  {
   "cell_type": "code",
   "execution_count": null,
   "metadata": {
    "collapsed": true
   },
   "outputs": [],
   "source": []
  },
  {
   "cell_type": "code",
   "execution_count": null,
   "metadata": {
    "collapsed": true
   },
   "outputs": [],
   "source": []
  }
 ],
 "metadata": {
  "kernelspec": {
   "display_name": "Python 2",
   "language": "python",
   "name": "python2"
  },
  "language_info": {
   "codemirror_mode": {
    "name": "ipython",
    "version": 2
   },
   "file_extension": ".py",
   "mimetype": "text/x-python",
   "name": "python",
   "nbconvert_exporter": "python",
   "pygments_lexer": "ipython2",
   "version": "2.7.13"
  }
 },
 "nbformat": 4,
 "nbformat_minor": 1
}
