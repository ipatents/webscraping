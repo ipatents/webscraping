{
 "cells": [
  {
   "cell_type": "markdown",
   "metadata": {},
   "source": [
    "Version 11\n",
    "Dated 23 Oct.\n",
    "\n",
    "In this version we have changed all the steps into function. \n",
    "Also loop to go through result pages is proposed which can be cleaned furthur.\n",
    "This is work in progress to show working code which will be cleaned as we increase the version count.\n",
    "\n"
   ]
  },
  {
   "cell_type": "code",
   "execution_count": 30,
   "metadata": {
    "collapsed": true
   },
   "outputs": [],
   "source": [
    "# import libraries\n",
    "#import urllib2\n",
    "import pandas as pd\n",
    "from urllib.request import urlopen\n",
    "from bs4 import BeautifulSoup"
   ]
  },
  {
   "cell_type": "code",
   "execution_count": 31,
   "metadata": {
    "collapsed": true
   },
   "outputs": [],
   "source": [
    "def getsoupfromlink(quote_page):\n",
    "    # specify the url\n",
    "    quote_page = 'http://patft.uspto.gov/netacgi/nph-Parser?Sect1=PTO2&Sect2=HITOFF&u=%2Fnetahtml%2FPTO%2Fsearch-adv.htm&r=0&p=2&f=S&l=50&Query=ACLM%2Fpython+&d=PTXT'\n",
    "    # query the website and return the html to the variable ‘page’\n",
    "    page = urlopen(quote_page)\n",
    "    # parse the html using beautiful soap and store in variable `soup`\n",
    "    soup = BeautifulSoup(page, 'html.parser')\n",
    "    return soup\n",
    "\n",
    "soup = getsoupfromlink(quote_page)"
   ]
  },
  {
   "cell_type": "markdown",
   "metadata": {},
   "source": [
    "soup"
   ]
  },
  {
   "cell_type": "code",
   "execution_count": 32,
   "metadata": {},
   "outputs": [
    {
     "name": "stdout",
     "output_type": "stream",
     "text": [
      "\n",
      "\n"
     ]
    }
   ],
   "source": [
    "s = soup.text\n",
    "\n",
    "def find_between( s, first, last ):\n",
    "    try:\n",
    "        start = s.index( first ) + len( first )\n",
    "        end = s.index( last, start )\n",
    "        return s[start:end]\n",
    "    except ValueError:\n",
    "        return \"\"\n",
    "\n",
    "def find_between_r( s, first, last ):\n",
    "    try:\n",
    "        start = s.rindex( first ) + len( first )\n",
    "        end = s.rindex( last, start )\n",
    "        return s[start:end]\n",
    "    except ValueError:\n",
    "        return \"\"\n",
    "\n",
    "\n",
    "print (find_between( s, \"What is claimed is:\", \"* * * * *\" ))\n",
    "print (find_between_r (s, '123', 'abc' ))"
   ]
  },
  {
   "cell_type": "code",
   "execution_count": 33,
   "metadata": {
    "scrolled": false
   },
   "outputs": [],
   "source": [
    "def extractlink (soup):\n",
    "    alllinks = []\n",
    "    count = 0 \n",
    "    for link in soup.find_all('a', href=True):\n",
    "        x =  link['href']\n",
    "        if x[:19]=='/netacgi/nph-Parser' and x.find('Next') == -1:\n",
    "\n",
    "            count = count+1\n",
    "            alllinks.append ('http://patft.uspto.gov'+x)\n",
    "    return alllinks\n",
    "\n",
    "alllinks = extractlink(soup)\n"
   ]
  },
  {
   "cell_type": "code",
   "execution_count": 34,
   "metadata": {},
   "outputs": [
    {
     "name": "stdout",
     "output_type": "stream",
     "text": [
      "51\n"
     ]
    }
   ],
   "source": [
    "def remove_duplicates(l):\n",
    "    return list(set(l))\n",
    "\n",
    "alllinks = remove_duplicates(alllinks)\n",
    "\n",
    "print (len(alllinks))"
   ]
  },
  {
   "cell_type": "code",
   "execution_count": 35,
   "metadata": {
    "scrolled": true
   },
   "outputs": [],
   "source": [
    "def getdatafromlink(link, lstofp):\n",
    "    from urllib.request import urlopen\n",
    "    from bs4 import BeautifulSoup\n",
    "    #quote_page2 = 'http://patft.uspto.gov/netacgi/nph-Parser?Sect1=PTO2&Sect2=HITOFF&u=%2Fnetahtml%2FPTO%2Fsearch-adv.htm&r=1&p=1&f=G&l=50&d=PTXT&S1=(python.CLTX.+or+python.DCTX.)&OS=ACLM/python&RS=ACLM/python/'\n",
    "    quote_page2 = link\n",
    "    page2 = urlopen(quote_page2)\n",
    "\n",
    "    soupinfun = BeautifulSoup(page2, 'html.parser')\n",
    "    \n",
    "    heading= (soupinfun.find('font', {'size':'+1'}).text).replace(\"\\n\", \"\")\n",
    "    heading = ' '.join(heading.split())\n",
    "    abstract= (soupinfun.p.text).replace(\"\\n\", \"\")\n",
    "    abstract = ' '.join(abstract.split())\n",
    "    claims = (find_between (soupinfun.text, 'What is claimed is:', '* * * * *' )).replace(\"\\n\", \"\")\n",
    "    claims = ' '.join(claims.split())\n",
    "    #print soup\n",
    "    lstofp.append([link,heading, abstract, claims])\n",
    "    return lstofp;\n",
    "\n"
   ]
  },
  {
   "cell_type": "code",
   "execution_count": 60,
   "metadata": {},
   "outputs": [],
   "source": [
    "def createdf(alllinks):\n",
    "    listofp =[]\n",
    "    for item in alllinks[:1]:\n",
    "        listofp = getdatafromlink(item,listofp)\n",
    "\n",
    "    cols = ['Link', 'Heading', 'Abstract', 'Claims']\n",
    "\n",
    "    df1 = pd.DataFrame(listofp, columns=cols)\n",
    "\n",
    "    df1.to_csv('output.txt', sep='|')\n",
    "    return df1\n",
    "\n",
    "df1 = createdf(alllinks)"
   ]
  },
  {
   "cell_type": "code",
   "execution_count": 61,
   "metadata": {},
   "outputs": [
    {
     "data": {
      "text/html": [
       "<div>\n",
       "<style>\n",
       "    .dataframe thead tr:only-child th {\n",
       "        text-align: right;\n",
       "    }\n",
       "\n",
       "    .dataframe thead th {\n",
       "        text-align: left;\n",
       "    }\n",
       "\n",
       "    .dataframe tbody tr th {\n",
       "        vertical-align: top;\n",
       "    }\n",
       "</style>\n",
       "<table border=\"1\" class=\"dataframe\">\n",
       "  <thead>\n",
       "    <tr style=\"text-align: right;\">\n",
       "      <th></th>\n",
       "      <th>Link</th>\n",
       "      <th>Heading</th>\n",
       "      <th>Abstract</th>\n",
       "      <th>Claims</th>\n",
       "    </tr>\n",
       "  </thead>\n",
       "  <tbody>\n",
       "    <tr>\n",
       "      <th>0</th>\n",
       "      <td>http://patft.uspto.gov/netacgi/nph-Parser?Sect...</td>\n",
       "      <td>Method for testing connectivity of software ap...</td>\n",
       "      <td>A method for verifying the connectivity of sof...</td>\n",
       "      <td></td>\n",
       "    </tr>\n",
       "  </tbody>\n",
       "</table>\n",
       "</div>"
      ],
      "text/plain": [
       "                                                Link  \\\n",
       "0  http://patft.uspto.gov/netacgi/nph-Parser?Sect...   \n",
       "\n",
       "                                             Heading  \\\n",
       "0  Method for testing connectivity of software ap...   \n",
       "\n",
       "                                            Abstract Claims  \n",
       "0  A method for verifying the connectivity of sof...         "
      ]
     },
     "execution_count": 61,
     "metadata": {},
     "output_type": "execute_result"
    }
   ],
   "source": [
    "df1"
   ]
  },
  {
   "cell_type": "code",
   "execution_count": 62,
   "metadata": {},
   "outputs": [
    {
     "data": {
      "text/plain": [
       "[['http://patft.uspto.gov/netacgi/nph-Parser?Sect1=PTO2&Sect2=HITOFF&u=%2Fnetahtml%2FPTO%2Fsearch-adv.htm&r=0&p=1&f=S&l=50&Query=ACLM%2Fpython+&d=PTXT'],\n",
       " ['http://patft.uspto.gov/netacgi/nph-Parser?Sect1=PTO2&Sect2=HITOFF&u=%2Fnetahtml%2FPTO%2Fsearch-adv.htm&r=0&p=2&f=S&l=50&Query=ACLM%2Fpython+&d=PTXT'],\n",
       " ['http://patft.uspto.gov/netacgi/nph-Parser?Sect1=PTO2&Sect2=HITOFF&u=%2Fnetahtml%2FPTO%2Fsearch-adv.htm&r=0&p=3&f=S&l=50&Query=ACLM%2Fpython+&d=PTXT'],\n",
       " ['http://patft.uspto.gov/netacgi/nph-Parser?Sect1=PTO2&Sect2=HITOFF&u=%2Fnetahtml%2FPTO%2Fsearch-adv.htm&r=0&p=4&f=S&l=50&Query=ACLM%2Fpython+&d=PTXT'],\n",
       " ['http://patft.uspto.gov/netacgi/nph-Parser?Sect1=PTO2&Sect2=HITOFF&u=%2Fnetahtml%2FPTO%2Fsearch-adv.htm&r=0&p=5&f=S&l=50&Query=ACLM%2Fpython+&d=PTXT'],\n",
       " ['http://patft.uspto.gov/netacgi/nph-Parser?Sect1=PTO2&Sect2=HITOFF&u=%2Fnetahtml%2FPTO%2Fsearch-adv.htm&r=0&p=6&f=S&l=50&Query=ACLM%2Fpython+&d=PTXT'],\n",
       " ['http://patft.uspto.gov/netacgi/nph-Parser?Sect1=PTO2&Sect2=HITOFF&u=%2Fnetahtml%2FPTO%2Fsearch-adv.htm&r=0&p=7&f=S&l=50&Query=ACLM%2Fpython+&d=PTXT'],\n",
       " ['http://patft.uspto.gov/netacgi/nph-Parser?Sect1=PTO2&Sect2=HITOFF&u=%2Fnetahtml%2FPTO%2Fsearch-adv.htm&r=0&p=8&f=S&l=50&Query=ACLM%2Fpython+&d=PTXT']]"
      ]
     },
     "execution_count": 62,
     "metadata": {},
     "output_type": "execute_result"
    }
   ],
   "source": [
    "quote_page = 'http://patft.uspto.gov/netacgi/nph-Parser?Sect1=PTO2&Sect2=HITOFF&u=%2Fnetahtml%2FPTO%2Fsearch-adv.htm&r=0&p=2&f=S&l=50&Query=ACLM%2Fpython+&d=PTXT'\n",
    "\n",
    "listofresultpages=[]\n",
    "\n",
    "for num in range(1,9):\n",
    "    leftlink= 'http://patft.uspto.gov/netacgi/nph-Parser?Sect1=PTO2&Sect2=HITOFF&u=%2Fnetahtml%2FPTO%2Fsearch-adv.htm&r=0&p='\n",
    "    midnumber = num\n",
    "    rightlink = '&f=S&l=50&Query=ACLM%2Fpython+&d=PTXT'\n",
    "    quotepagejoined = leftlink+str(midnumber)+rightlink\n",
    "    listofresultpages.append([quotepagejoined])\n",
    "\n",
    "#print (quotepagejoined == quote_page)\n",
    "\n",
    "listofresultpages"
   ]
  },
  {
   "cell_type": "code",
   "execution_count": 63,
   "metadata": {},
   "outputs": [
    {
     "name": "stdout",
     "output_type": "stream",
     "text": [
      "                                                Link  \\\n",
      "0  http://patft.uspto.gov/netacgi/nph-Parser?Sect...   \n",
      "\n",
      "                                             Heading  \\\n",
      "0  Method for testing connectivity of software ap...   \n",
      "\n",
      "                                            Abstract Claims  \n",
      "0  A method for verifying the connectivity of sof...         \n",
      "                                                Link  \\\n",
      "0  http://patft.uspto.gov/netacgi/nph-Parser?Sect...   \n",
      "\n",
      "                                             Heading  \\\n",
      "0  Method for testing connectivity of software ap...   \n",
      "\n",
      "                                            Abstract Claims  \n",
      "0  A method for verifying the connectivity of sof...         \n",
      "                                                Link  \\\n",
      "0  http://patft.uspto.gov/netacgi/nph-Parser?Sect...   \n",
      "\n",
      "                                             Heading  \\\n",
      "0  Method for testing connectivity of software ap...   \n",
      "\n",
      "                                            Abstract Claims  \n",
      "0  A method for verifying the connectivity of sof...         \n",
      "                                                Link  \\\n",
      "0  http://patft.uspto.gov/netacgi/nph-Parser?Sect...   \n",
      "\n",
      "                                             Heading  \\\n",
      "0  Method for testing connectivity of software ap...   \n",
      "\n",
      "                                            Abstract Claims  \n",
      "0  A method for verifying the connectivity of sof...         \n",
      "                                                Link  \\\n",
      "0  http://patft.uspto.gov/netacgi/nph-Parser?Sect...   \n",
      "\n",
      "                                             Heading  \\\n",
      "0  Method for testing connectivity of software ap...   \n",
      "\n",
      "                                            Abstract Claims  \n",
      "0  A method for verifying the connectivity of sof...         \n",
      "                                                Link  \\\n",
      "0  http://patft.uspto.gov/netacgi/nph-Parser?Sect...   \n",
      "\n",
      "                                             Heading  \\\n",
      "0  Method for testing connectivity of software ap...   \n",
      "\n",
      "                                            Abstract Claims  \n",
      "0  A method for verifying the connectivity of sof...         \n",
      "                                                Link  \\\n",
      "0  http://patft.uspto.gov/netacgi/nph-Parser?Sect...   \n",
      "\n",
      "                                             Heading  \\\n",
      "0  Method for testing connectivity of software ap...   \n",
      "\n",
      "                                            Abstract Claims  \n",
      "0  A method for verifying the connectivity of sof...         \n",
      "                                                Link  \\\n",
      "0  http://patft.uspto.gov/netacgi/nph-Parser?Sect...   \n",
      "\n",
      "                                             Heading  \\\n",
      "0  Method for testing connectivity of software ap...   \n",
      "\n",
      "                                            Abstract Claims  \n",
      "0  A method for verifying the connectivity of sof...         \n"
     ]
    }
   ],
   "source": [
    "quote_page = 'http://patft.uspto.gov/netacgi/nph-Parser?Sect1=PTO2&Sect2=HITOFF&u=%2Fnetahtml%2FPTO%2Fsearch-adv.htm&r=0&p=2&f=S&l=50&Query=ACLM%2Fpython+&d=PTXT'\n",
    "\n",
    "for page in listofresultpages:\n",
    "    soup = getsoupfromlink(page)\n",
    "    alllinks = extractlink(soup)\n",
    "    alllinks = remove_duplicates(alllinks)\n",
    "    df1 = createdf(alllinks)\n",
    "    print (df1)\n",
    "\n"
   ]
  },
  {
   "cell_type": "code",
   "execution_count": null,
   "metadata": {
    "collapsed": true
   },
   "outputs": [],
   "source": []
  }
 ],
 "metadata": {
  "kernelspec": {
   "display_name": "Python 3",
   "language": "python",
   "name": "python3"
  },
  "language_info": {
   "codemirror_mode": {
    "name": "ipython",
    "version": 3
   },
   "file_extension": ".py",
   "mimetype": "text/x-python",
   "name": "python",
   "nbconvert_exporter": "python",
   "pygments_lexer": "ipython3",
   "version": "3.6.2"
  }
 },
 "nbformat": 4,
 "nbformat_minor": 1
}
